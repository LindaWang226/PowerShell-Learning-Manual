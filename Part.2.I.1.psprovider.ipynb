{
 "cells": [
  {
   "cell_type": "markdown",
   "metadata": {},
   "source": [
    "# PowerShell Provider"
   ]
  },
  {
   "cell_type": "markdown",
   "metadata": {},
   "source": [
    "## 什么是PowerShell Provider"
   ]
  },
  {
   "cell_type": "markdown",
   "metadata": {},
   "source": [
    "PowerShell Provider或者有时候我们能看到PSProvider，是一种PowerShell的适配器，有点像我们平时用电脑时候接触到的磁盘适配器。\n",
    "\n",
    "PSProvider看起来像磁盘一样在存储数据。"
   ]
  },
  {
   "cell_type": "markdown",
   "metadata": {},
   "source": [
    "**【例子】**\n",
    "\n",
    "可以通过命令`Get-PSProvider`获得已经安装了的PowerShell的Provider。\n",
    "\n",
    "![](images/psprovider.jpg)\n",
    "\n",
    "里面能看到我们熟悉的磁盘盘符，后面我会介绍如何使用provider。"
   ]
  },
  {
   "cell_type": "markdown",
   "metadata": {},
   "source": [
    "PSProvider也是可以添加的，有些module或者snap-in的添加会新的PSProvider。\n",
    "\n",
    "> module和snap-in的扩展PowerShell命令的方式，我们会在相关部分讲到，大家可以理解为，为PowerShell扩展命令的时候可能会创建PSProvider。"
   ]
  },
  {
   "cell_type": "markdown",
   "metadata": {},
   "source": [
    "添加一些PowerShell功能的时候，可能也会创建新的PSProvider。"
   ]
  },
  {
   "cell_type": "markdown",
   "metadata": {},
   "source": [
    "**【例子】**\n",
    "\n",
    "开启PowerShell的远程功能，会创建名为WSMan的PSProvider。"
   ]
  },
  {
   "cell_type": "markdown",
   "metadata": {},
   "source": [
    "## 获取providers的帮助信息"
   ]
  },
  {
   "cell_type": "markdown",
   "metadata": {},
   "source": [
    "通过Get-Help也可以查看provider的帮助信息。"
   ]
  },
  {
   "cell_type": "markdown",
   "metadata": {},
   "source": [
    "**【例子】**  \n",
    "比如：我想看一下注册表provider的帮助信息。  \n",
    "```bash\n",
    "Get-Help registry\n",
    "```\n",
    "想查看PowerShell中给还有什么provider：\n",
    "```bash\n",
    "Get-PSProvider\n",
    "```\n",
    "![](images/get_psprovider.png)"
   ]
  },
  {
   "cell_type": "markdown",
   "metadata": {},
   "source": [
    "**【练习】**  \n",
    "1.查看一下provider：FileSystem的帮助信息"
   ]
  }
 ],
 "metadata": {
  "kernelspec": {
   "display_name": "Python 3",
   "language": "python",
   "name": "python3"
  },
  "language_info": {
   "codemirror_mode": {
    "name": "ipython",
    "version": 3
   },
   "file_extension": ".py",
   "mimetype": "text/x-python",
   "name": "python",
   "nbconvert_exporter": "python",
   "pygments_lexer": "ipython3",
   "version": "3.7.3"
  }
 },
 "nbformat": 4,
 "nbformat_minor": 4
}
