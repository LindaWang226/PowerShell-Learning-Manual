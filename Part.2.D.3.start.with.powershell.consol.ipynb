{
 "cells": [
  {
   "cell_type": "markdown",
   "metadata": {},
   "source": [
    "# 开始使用Windows PowerShell"
   ]
  },
  {
   "cell_type": "markdown",
   "metadata": {},
   "source": [
    "## 打开Windows PowerShell控制台"
   ]
  },
  {
   "cell_type": "markdown",
   "metadata": {},
   "source": [
    "点击“开始”，或按键盘上的“Win”键，然后输入Windows PowerShell，就可以找到Windows PowerShell了。\n",
    "\n",
    "![](images\\find_ps.jpg)\n",
    "\n",
    "点击或者右键以“管理员身份运行”就可以直接打开或者以管理员权限打开Windows PowerShell控制台了。"
   ]
  },
  {
   "cell_type": "markdown",
   "metadata": {},
   "source": [
    "## 查看当前Powershell版本"
   ]
  },
  {
   "cell_type": "markdown",
   "metadata": {},
   "source": [
    "在PowerShell的命令行中输入`$PSVersionTable`就可以查看当前PowerShell的版本，不同的版本执行相同的命令可能会得到不同的结果。\n",
    "\n",
    "![](images/powershell_version.png)"
   ]
  },
  {
   "cell_type": "markdown",
   "metadata": {},
   "source": [
    "## PowerShell控制台窗口的调整"
   ]
  },
  {
   "cell_type": "markdown",
   "metadata": {},
   "source": [
    "在开始正式使用PowerShell之前，我们要熟悉PowerShell控制台的设置，如字体、字号。\n",
    "\n",
    "我们要将字体调整到能够分清楚各种标点符号及合适的字号。比如能够很好的区分重音符“\\`”和单引号“\\'”。\n",
    "\n",
    "![](images/powershell_prompt_property.png)"
   ]
  },
  {
   "cell_type": "markdown",
   "metadata": {},
   "source": [
    "**【练习】**  \n",
    "请自己熟悉一下PowerShell控制台窗口的设置"
   ]
  }
 ],
 "metadata": {
  "kernelspec": {
   "display_name": "Python 3",
   "language": "python",
   "name": "python3"
  },
  "language_info": {
   "codemirror_mode": {
    "name": "ipython",
    "version": 3
   },
   "file_extension": ".py",
   "mimetype": "text/x-python",
   "name": "python",
   "nbconvert_exporter": "python",
   "pygments_lexer": "ipython3",
   "version": "3.7.3"
  },
  "toc-autonumbering": true
 },
 "nbformat": 4,
 "nbformat_minor": 2
}
