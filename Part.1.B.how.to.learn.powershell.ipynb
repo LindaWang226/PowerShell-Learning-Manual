{
 "cells": [
  {
   "cell_type": "markdown",
   "metadata": {},
   "source": [
    "# 如何高效学习PowerShell"
   ]
  },
  {
   "cell_type": "markdown",
   "metadata": {},
   "source": [
    "首先PowerShell是一种脚本语言，对于语言，结合我们学到的[如何高效的学习](A.study.efficiently.ipynb)里面的知识。"
   ]
  },
  {
   "cell_type": "markdown",
   "metadata": {},
   "source": [
    "## 学习编程语言"
   ]
  },
  {
   "cell_type": "markdown",
   "metadata": {},
   "source": [
    "我们应该：\n",
    "> * 先了解一个概念——这是知不知道的问题，知道就知道，不知道就不知道\n",
    "> * 通过一个例子来理解概念\n",
    "> * 通过练习，来模仿，掌握这个概念\n",
    "> * 通过综合项目，把多个相关的知识点体系化，以创造，编写出自己的东西。"
   ]
  },
  {
   "cell_type": "markdown",
   "metadata": {},
   "source": [
    "## 以教为学"
   ]
  },
  {
   "cell_type": "markdown",
   "metadata": {},
   "source": [
    "以教为学有这么多好处，你也可以尝试在学习PowerShell的过程中，出一套PowerShell的教程。  \n",
    "具体怎么操作呢？我给你写好了，请参阅：[如何通过Github学习及参与本教程编写？](part.1.C.learn.and.contribute.this.tutorial.via.Github.ipynb)"
   ]
  }
 ],
 "metadata": {
  "kernelspec": {
   "display_name": "Python 3",
   "language": "python",
   "name": "python3"
  },
  "language_info": {
   "codemirror_mode": {
    "name": "ipython",
    "version": 3
   },
   "file_extension": ".py",
   "mimetype": "text/x-python",
   "name": "python",
   "nbconvert_exporter": "python",
   "pygments_lexer": "ipython3",
   "version": "3.7.3"
  }
 },
 "nbformat": 4,
 "nbformat_minor": 2
}
