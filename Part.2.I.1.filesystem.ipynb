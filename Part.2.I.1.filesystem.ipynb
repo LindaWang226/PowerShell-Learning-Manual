{
 "cells": [
  {
   "cell_type": "markdown",
   "metadata": {},
   "source": [
    "# 文件系统"
   ]
  },
  {
   "cell_type": "markdown",
   "metadata": {},
   "source": [
    "## Windows文件系统"
   ]
  },
  {
   "cell_type": "markdown",
   "metadata": {},
   "source": [
    "Windows文件系统主要有三种类型的对象：驱动器，文件夹和文件。\n",
    "\n",
    "他们的嵌套关系是：驱动器包含文件夹，文件夹再包含文件。\n",
    "\n",
    "驱动器和文件夹都是容器。  \n",
    "驱动器可以包含文件夹和文件。\n",
    "文件夹可以包含文件夹和文件。"
   ]
  },
  {
   "cell_type": "markdown",
   "metadata": {},
   "source": [
    "# PS Drive"
   ]
  },
  {
   "cell_type": "markdown",
   "metadata": {},
   "source": [
    "在PowerShell中，Drive并不仅仅是指磁盘类的文件系统，PSDrive可以指向注册表集。\n",
    "\n",
    "而对于文件夹或者文件，对于PowerShell而言，都统称为是一个项目“Item”。\n",
    "\n",
    "因此，无论是注册表还是磁盘，就都成了PSDrive，像容器一样，容纳着注册表信息、文件夹和文件等等这些项目。\n",
    "\n",
    "通过命令`Get-PSProvider`可以查看有哪些PS Drive"
   ]
  },
  {
   "cell_type": "markdown",
   "metadata": {},
   "source": [
    "## 将本地文件夹映射成一个Windows驱动器\n",
    "\n",
    "```cmd\n",
    "subst p: $env:programfiles\n",
    "```"
   ]
  },
  {
   "cell_type": "code",
   "execution_count": null,
   "metadata": {},
   "outputs": [],
   "source": []
  }
 ],
 "metadata": {
  "kernelspec": {
   "display_name": "Python 3",
   "language": "python",
   "name": "python3"
  },
  "language_info": {
   "codemirror_mode": {
    "name": "ipython",
    "version": 3
   },
   "file_extension": ".py",
   "mimetype": "text/x-python",
   "name": "python",
   "nbconvert_exporter": "python",
   "pygments_lexer": "ipython3",
   "version": "3.7.3"
  }
 },
 "nbformat": 4,
 "nbformat_minor": 4
}
