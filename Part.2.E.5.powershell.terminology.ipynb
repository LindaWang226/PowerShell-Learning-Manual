{
 "cells": [
  {
   "cell_type": "markdown",
   "metadata": {},
   "source": [
    "# PowerShell术语"
   ]
  },
  {
   "cell_type": "markdown",
   "metadata": {},
   "source": [
    "* cmdlet：PowerShell内建的，使用基于.NET Framework的语言，如C#写的命令，念做“command-let”。\n",
    "\n",
    "* function:类似cmdlet，但是不是通过.NET写的，而是用PowerShell写的。\n",
    "\n",
    "* workflow:一类特定的function，和PowerShell's workflow系统绑定在一起的。\n",
    "\n",
    "* application：任何外部可执行程序，包括命令行，如ping，ipconfig等。\n",
    "\n",
    "* command：上面提到的这些，都称为command。\n",
    "\n",
    "对于命名规则，虽然没有强制，但是上面提到的function，workflow也是应该跟cmdlet保持一致的，采用标准“动词-名词”的方式。"
   ]
  },
  {
   "cell_type": "code",
   "execution_count": null,
   "metadata": {},
   "outputs": [],
   "source": []
  }
 ],
 "metadata": {
  "kernelspec": {
   "display_name": "Python 3",
   "language": "python",
   "name": "python3"
  },
  "language_info": {
   "codemirror_mode": {
    "name": "ipython",
    "version": 3
   },
   "file_extension": ".py",
   "mimetype": "text/x-python",
   "name": "python",
   "nbconvert_exporter": "python",
   "pygments_lexer": "ipython3",
   "version": "3.7.3"
  }
 },
 "nbformat": 4,
 "nbformat_minor": 4
}
