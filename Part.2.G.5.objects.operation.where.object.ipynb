{
 "cells": [
  {
   "cell_type": "markdown",
   "metadata": {},
   "source": [
    "# 对象的操作——Where-Object"
   ]
  },
  {
   "cell_type": "markdown",
   "metadata": {},
   "source": [
    "一个对象包含很多属性，我们直接获取对象的信息时，有时候需要过滤出我们想要的信息，这时候就需要用到Where-Object来操作对象。"
   ]
  },
  {
   "cell_type": "markdown",
   "metadata": {},
   "source": [
    "## 通过对象的属性筛选"
   ]
  },
  {
   "cell_type": "markdown",
   "metadata": {},
   "source": [
    "我们可以通过对象的属性来筛选对象。"
   ]
  },
  {
   "cell_type": "markdown",
   "metadata": {},
   "source": [
    "**【例子】**\n",
    "\n",
    "以Service为例，我们先来查看一下Service有哪些属性。\n",
    "\n",
    "```bash\n",
    "Get-Service | Get-Member -MemberType Property\n",
    "```\n",
    "\n",
    "![](images/where.object.service.property.jpg)\n",
    "\n",
    "现在我们希望能够把所有状态为“Running”的服务筛选出来。\n",
    "\n",
    "```bash\n",
    "Get-Service | Where-Object -FilterScript {$_.Status -eq \"Running\"}\n",
    "```"
   ]
  },
  {
   "cell_type": "markdown",
   "metadata": {},
   "source": [
    "**【练习】**\n",
    "\n",
    "1.把服务中不能停止的筛选出来。  \n",
    "2.把状态为运行的服务中，不能停止的筛选出来。"
   ]
  },
  {
   "cell_type": "markdown",
   "metadata": {},
   "source": [
    "## 一个筛选元素里完成多个条件的筛选"
   ]
  },
  {
   "cell_type": "markdown",
   "metadata": {},
   "source": [
    "可以通过标准的逻辑操作符把多个筛选条件合并成一条。"
   ]
  },
  {
   "cell_type": "markdown",
   "metadata": {},
   "source": [
    "**【例子】**\n",
    "\n",
    "```bash\n",
    "Get-Service | Where-Object -FilterScript {($_.Status -eq \"Running\") -and ($_.canstop -eq \"False\")}\n",
    "```"
   ]
  }
 ],
 "metadata": {
  "kernelspec": {
   "display_name": "Python 3",
   "language": "python",
   "name": "python3"
  },
  "language_info": {
   "codemirror_mode": {
    "name": "ipython",
    "version": 3
   },
   "file_extension": ".py",
   "mimetype": "text/x-python",
   "name": "python",
   "nbconvert_exporter": "python",
   "pygments_lexer": "ipython3",
   "version": "3.7.3"
  }
 },
 "nbformat": 4,
 "nbformat_minor": 2
}
