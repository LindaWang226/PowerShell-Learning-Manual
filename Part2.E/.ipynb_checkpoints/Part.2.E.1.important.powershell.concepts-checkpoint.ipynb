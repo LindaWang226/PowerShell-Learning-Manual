{
 "cells": [
  {
   "cell_type": "markdown",
   "metadata": {},
   "source": [
    "# 理解重要的PowerShell概念"
   ]
  },
  {
   "cell_type": "markdown",
   "metadata": {},
   "source": [
    "## 基于对象"
   ]
  },
  {
   "cell_type": "markdown",
   "metadata": {},
   "source": [
    "前面在介绍PowerShell是什么的时候，我们提到了PowerShell是基于对象的，今天我们就解释一下PowerShell的基于对象。\n",
    "\n",
    "在计算机科学中，有一个词叫Shell，俗称壳（用来区别于核），是指为使用者提供操作界面的软件。\n",
    "\n",
    "Linux中Bash是基于文本的CLI Shell，PowerShell是基于对象的CLI Shell。"
   ]
  },
  {
   "cell_type": "markdown",
   "metadata": {},
   "source": [
    "**【例子】**  \n",
    "\n",
    "在Linux中我想用Kill命令结束掉以字母p开头的进程。\n",
    "\n",
    "以Ubuntu为例，我需要运行下面的命令：\n",
    "\n",
    "```bash\n",
    "$ ps -e | grep \" p\" | awk '{ print $1 }' | xargs kill\n",
    "```\n",
    "\n",
    "这条命令做了什么事情呢？\n",
    "\n",
    "因为需要对kill命令提供PID来结束进程，所以我先通过`ps -e`获取了当前进程的清单，然后通过`grep`命令搜索了以“p”开头的进程。\n",
    "\n",
    "![](images\\ubuntu_1.png)\n",
    "\n",
    "![](images\\ubuntu_2.png)\n",
    "\n",
    "接下来，又通过`awk`命令，选取了第1列，第1列是PID信息。\n",
    "\n",
    "![](images\\ubuntu_3.png)\n",
    "\n",
    "最后通过`kill`命令结束了进程。\n",
    "\n",
    "类似的，如果要在PowerShell中执行相同的命令，只需要执行下面的操作：\n",
    "\n",
    "```bash\n",
    "Get-Process p* | Stop-Process\n",
    "```\n",
    "\n",
    "PowerShell中的`Get-Process`命令查找了以p开头的进程，然后通过管道输出给`Stop-Process`命令结束掉。\n",
    "\n",
    "这两者在工作逻辑上是不同的，对于基于文本的，我需要PID信息，我就通过各种方式从一堆信息中心把PID拿到，去用。对于基于对象的，我需要进程，我就直接拿到进程。"
   ]
  },
  {
   "cell_type": "markdown",
   "metadata": {},
   "source": [
    "## 命令是可以扩展的"
   ]
  },
  {
   "cell_type": "markdown",
   "metadata": {},
   "source": [
    "不同于传统的cmd.exe这样的命令行工具，你不能直接的扩展自己想用的命令，对于PowerShell，内置的命令我们称为cmdlet，除了cmdlet，你可以通过编译的代码或者脚本，创建你自己的模块和功能，来扩展PowerShell命令行的功能。"
   ]
  },
  {
   "cell_type": "markdown",
   "metadata": {},
   "source": [
    "**【例子】**  \n",
    "\n",
    "通过`Get-Command *-Disk`命令我们可以看到PowerShell默认的跟Dsik相关的所有命令。\n",
    "\n",
    "![](images\\extension_command.jpg)\n",
    "\n",
    "我现在想要获取C盘的可用空间，我发现没有现成的命令。\n",
    "\n",
    "通过下面我自己写的简单的脚本，就可以实现这个需求了。\n",
    "\n",
    "```bash\n",
    "function get-diskCFreeSpace {\n",
    "    param (\n",
    "        $computername=$env:COMPUTERNAME\n",
    "    )\n",
    "    Get-WmiObject win32_logicaldisk | Where-Object {$_.deviceid -eq 'c:'} | Format-Table @{name=\"FreeSpace(GB)\";expression={$_.freespace/1gb};formatstring='F2'}\n",
    "}\n",
    "```\n",
    "\n",
    "![](images\\extension_command_cdisk.jpg)"
   ]
  },
  {
   "cell_type": "markdown",
   "metadata": {},
   "source": [
    "## PowerShell使用一些C#的语法"
   ]
  },
  {
   "cell_type": "markdown",
   "metadata": {},
   "source": [
    "PowerShell 是基于.NET Framework建立的。它跟C#有这一些相同的语法和关键字。学习PowerShell可以让你更容易去学习C#，如果你已经比较熟悉C#，你也会很容易上手PowerShell。"
   ]
  }
 ],
 "metadata": {
  "kernelspec": {
   "display_name": "Python 3",
   "language": "python",
   "name": "python3"
  },
  "language_info": {
   "codemirror_mode": {
    "name": "ipython",
    "version": 3
   },
   "file_extension": ".py",
   "mimetype": "text/x-python",
   "name": "python",
   "nbconvert_exporter": "python",
   "pygments_lexer": "ipython3",
   "version": "3.7.3"
  },
  "toc-autonumbering": true
 },
 "nbformat": 4,
 "nbformat_minor": 4
}
