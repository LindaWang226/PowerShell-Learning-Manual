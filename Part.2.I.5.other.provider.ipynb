{
 "cells": [
  {
   "cell_type": "markdown",
   "metadata": {},
   "source": [
    "# 使用其他PSProvider"
   ]
  },
  {
   "cell_type": "markdown",
   "metadata": {},
   "source": [
    "前面讲到的例子主要是以文件系统的操作为例，也是我们用到的最多的PSProvider。"
   ]
  },
  {
   "cell_type": "markdown",
   "metadata": {},
   "source": [
    "不同的PSProvider有不同的功能，所以你需要用不同的方式来使用其他的provider，但是跟文件系统的provider使用方式是很像的。"
   ]
  },
  {
   "cell_type": "markdown",
   "metadata": {},
   "source": [
    "**【例子】**\n",
    "\n",
    "我们以注册表为例，来演示一下其他的provider的使用。\n",
    "\n",
    "![](images\\regedit.jpg)\n",
    "\n",
    "```bash\n",
    "Set-ItemProperty -Path dwn -PSPropert EnableAeroPeek -Value 0\n",
    "```"
   ]
  }
 ],
 "metadata": {
  "kernelspec": {
   "display_name": "Python 3",
   "language": "python",
   "name": "python3"
  },
  "language_info": {
   "codemirror_mode": {
    "name": "ipython",
    "version": 3
   },
   "file_extension": ".py",
   "mimetype": "text/x-python",
   "name": "python",
   "nbconvert_exporter": "python",
   "pygments_lexer": "ipython3",
   "version": "3.7.3"
  }
 },
 "nbformat": 4,
 "nbformat_minor": 4
}
