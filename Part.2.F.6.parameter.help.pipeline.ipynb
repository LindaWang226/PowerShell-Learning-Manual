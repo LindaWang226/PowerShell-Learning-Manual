{
 "cells": [
  {
   "cell_type": "markdown",
   "metadata": {},
   "source": [
    "# 1.参数的帮助信息"
   ]
  },
  {
   "cell_type": "markdown",
   "metadata": {},
   "source": [
    "## 1.4.是否支持管道？"
   ]
  },
  {
   "cell_type": "markdown",
   "metadata": {},
   "source": [
    "再接着往下看，我们就看到了管道\n",
    "\n",
    "这是什么意思呢？\n",
    "\n",
    "我们穿插着使用之前涉及到的几个命令，这次我们回到Get-Process。\n",
    "\n",
    "我们先回想一下前面的关于Get-Process的学习\n",
    "\n",
    "我们通过PowerShell的两条命令，关掉了记事本，我有没有办法一条命令就关掉记事本呢？\n",
    "\n",
    "答案肯定是可以的，这时候我们就要用到管道这个功能。\n",
    "\n",
    "请大家打开记事本，然后执行下面的命令：\n",
    "\n",
    "```bash\n",
    "Get-Process notepad |Stop-Process\n",
    "```\n",
    "\n",
    "命令中的“|”是管道符，就是键盘上右“]”方括号右边的那个键。"
   ]
  },
  {
   "cell_type": "code",
   "execution_count": null,
   "metadata": {},
   "outputs": [],
   "source": []
  }
 ],
 "metadata": {
  "kernelspec": {
   "display_name": "Python 3",
   "language": "python",
   "name": "python3"
  },
  "language_info": {
   "codemirror_mode": {
    "name": "ipython",
    "version": 3
   },
   "file_extension": ".py",
   "mimetype": "text/x-python",
   "name": "python",
   "nbconvert_exporter": "python",
   "pygments_lexer": "ipython3",
   "version": "3.7.3"
  },
  "toc-autonumbering": false
 },
 "nbformat": 4,
 "nbformat_minor": 2
}
