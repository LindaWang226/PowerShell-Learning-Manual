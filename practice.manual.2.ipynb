{
 "cells": [
  {
   "cell_type": "markdown",
   "metadata": {},
   "source": [
    "# 获取WMI对象"
   ]
  },
  {
   "cell_type": "markdown",
   "metadata": {},
   "source": [
    "WMI Windows Management Instrumentation"
   ]
  },
  {
   "cell_type": "markdown",
   "metadata": {},
   "source": [
    "## 列出WMI的类\n",
    "\n",
    "```bash\n",
    "Get-WmiObject -List\n",
    "```\n",
    "\n",
    "Get-WmiObject默认使用root/cimv2 namespace，如果想用其他的namespace，使用参数`-Namespace`"
   ]
  },
  {
   "cell_type": "markdown",
   "metadata": {},
   "source": [
    "## 显示WMI类的信息\n",
    "\n",
    "```bash\n",
    "Get-WmiObject -Class Win32_OperatingSystem\n",
    "```"
   ]
  },
  {
   "cell_type": "markdown",
   "metadata": {},
   "source": [
    "# Where-Object"
   ]
  },
  {
   "cell_type": "markdown",
   "metadata": {},
   "source": []
  }
 ],
 "metadata": {
  "kernelspec": {
   "display_name": "Python 3",
   "language": "python",
   "name": "python3"
  },
  "language_info": {
   "codemirror_mode": {
    "name": "ipython",
    "version": 3
   },
   "file_extension": ".py",
   "mimetype": "text/x-python",
   "name": "python",
   "nbconvert_exporter": "python",
   "pygments_lexer": "ipython3",
   "version": "3.7.3"
  }
 },
 "nbformat": 4,
 "nbformat_minor": 2
}
