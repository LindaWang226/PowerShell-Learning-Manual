{
 "cells": [
  {
   "cell_type": "markdown",
   "metadata": {},
   "source": [
    "# 操纵文件系统"
   ]
  },
  {
   "cell_type": "markdown",
   "metadata": {},
   "source": [
    "## 列出文件夹下的文件\n",
    "\n",
    "显示一个文件夹的所有文件，包括隐藏的，但不含子目录。\n",
    "\n",
    "```powershell\n",
    "Get-ChildItem -Path C:\\ -Force\n",
    "```\n",
    "\n",
    "如果需要包含子文件，需要加参数`-Recurse`\n",
    "\n",
    "通过PowerShell进行复杂的筛选：\n",
    "\n",
    "```bash\n",
    "Get-ChildItem -Path $env:ProgramFiles -Recurse -Include *.exe | Where-Object -FilterScript {($_.LastWriteTime -gt '2005-10-01') -and ($_.Length -ge 1mb) -and ($_.Length -le 10mb)}\n",
    "```"
   ]
  },
  {
   "cell_type": "markdown",
   "metadata": {},
   "source": [
    "## 复制文件和文件夹\n",
    "\n",
    "```bash\n",
    "Copy-Item -Path C:\\boot.ini -Destination C:\\boot.bak\n",
    "```\n",
    "\n",
    "对于已经存在的文件，进行覆盖，使用参数`-Force`,哪怕目标是只读。\n",
    "```bash\n",
    "Copy-Item -Path C:\\boot.ini -Destination C:\\boot.bak -Force\n",
    "```\n",
    "\n",
    "拷贝文件：\n",
    "\n",
    "```bash\n",
    "Copy-Item C:\\temp\\test1 -Recurse C:\\temp\\DeleteMe\n",
    "```\n",
    "\n",
    "可以对需要考的文件做过滤\n",
    "\n",
    "```bash\n",
    "Copy-Item -Filter *.txt -Path c:\\data -Recurse -Destination C:\\temp\\text\n",
    "```\n",
    "\n",
    "**使用Scripting.FileSystem COM类进行备份**\n",
    "\n",
    "```bash\n",
    "(New-Object -ComObject Scripting.FileSystemObject).CopyFile('C:\\boot.ini', 'C:\\boot.bak')\n",
    "```"
   ]
  },
  {
   "cell_type": "markdown",
   "metadata": {},
   "source": [
    "## 创建文件和文件夹\n",
    "\n",
    "```bash\n",
    "New-Item -Path 'C:\\temp\\New Folder' -ItemType Directory\n",
    "New-Item -Path 'C:\\temp\\New Folder\\file.txt' -ItemType File\n",
    "```"
   ]
  },
  {
   "cell_type": "markdown",
   "metadata": {},
   "source": [
    "## 删除文件夹下的所有文件\n",
    "\n",
    "```bash\n",
    "Remove-Item -Path C:\\temp\\DeleteMe\n",
    "```\n",
    "\n",
    "当该文件下有内容时，会有提示，确认删除，如果使用参数`-Recurse`就可以直接删除了。"
   ]
  },
  {
   "cell_type": "markdown",
   "metadata": {},
   "source": [
    "## 将本地文件夹映射成一个Windows驱动器\n",
    "\n",
    "```cmd\n",
    "subst p: $env:programfiles\n",
    "```"
   ]
  }
 ],
 "metadata": {
  "kernelspec": {
   "display_name": "Python 3",
   "language": "python",
   "name": "python3"
  },
  "language_info": {
   "codemirror_mode": {
    "name": "ipython",
    "version": 3
   },
   "file_extension": ".py",
   "mimetype": "text/x-python",
   "name": "python",
   "nbconvert_exporter": "python",
   "pygments_lexer": "ipython3",
   "version": "3.7.3"
  }
 },
 "nbformat": 4,
 "nbformat_minor": 4
}
