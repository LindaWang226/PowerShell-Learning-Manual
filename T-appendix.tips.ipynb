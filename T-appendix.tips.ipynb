{
 "cells": [
  {
   "cell_type": "markdown",
   "metadata": {},
   "source": [
    "* 点号(.)代表本地计算机 ```Get-CimInstance -ClassName Win32_Desktop -ComputerName .```\n",
    "\n"
   ]
  },
  {
   "cell_type": "markdown",
   "metadata": {},
   "source": [
    "# 为离线计算机更新帮助\n",
    "\n",
    "对于不能联网的计算机需要更新帮助信息，我们可以从已经更新了帮助信息的计算机中将帮助文件导出，然后再导入到需要更新帮助信息的离线计算机中。\n",
    "\n",
    "**导出现有帮助信息：**\n",
    "\n",
    "```bash\n",
    "Save-Help\n",
    "```\n",
    "\n",
    "**导入离线帮助文件：**\n",
    "\n",
    "```bash\n",
    "Update-Help -Source\n",
    "```"
   ]
  }
 ],
 "metadata": {
  "kernelspec": {
   "display_name": "Python 3",
   "language": "python",
   "name": "python3"
  },
  "language_info": {
   "codemirror_mode": {
    "name": "ipython",
    "version": 3
   },
   "file_extension": ".py",
   "mimetype": "text/x-python",
   "name": "python",
   "nbconvert_exporter": "python",
   "pygments_lexer": "ipython3",
   "version": "3.7.3"
  }
 },
 "nbformat": 4,
 "nbformat_minor": 4
}
