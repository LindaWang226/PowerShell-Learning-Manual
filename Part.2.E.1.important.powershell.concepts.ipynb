{
 "cells": [
  {
   "cell_type": "markdown",
   "metadata": {},
   "source": [
    "# 理解重要的PowerShell概念"
   ]
  },
  {
   "cell_type": "markdown",
   "metadata": {},
   "source": [
    "## 基于对象"
   ]
  },
  {
   "cell_type": "markdown",
   "metadata": {},
   "source": [
    "PowerShell是基于对象的，对象是一种结构化的信息，而不仅仅是看上去的一堆字符串显示在屏幕上。"
   ]
  },
  {
   "cell_type": "markdown",
   "metadata": {},
   "source": [
    "**【例子】**  \n",
    "比如：  \n",
    "```powershell\n",
    "Get-Process notepad | fl *\n",
    "```\n",
    "在PowerShell，你看到的信息不是平的，一个块整体的文字，每一项你看到的内容，都是一个notepad这个进程对象中的一个个属性，比如name，你可以单独把这个属性选择出来\n",
    "```powershell\n",
    "Get-Process notepad | Select-Object name\n",
    "```"
   ]
  },
  {
   "cell_type": "markdown",
   "metadata": {},
   "source": [
    "**【练习】**  \n",
    "打开一个记事本程序，执行命令：\n",
    "```powershell\n",
    "Get-Process notepad | Get-Member\n",
    "\n",
    "   TypeName: System.Diagnostics.Process\n",
    "\n",
    "Name                       MemberType     Definition\n",
    "----                       ----------     ----------\n",
    "Handles                    AliasProperty  Handles = Handlecount\n",
    "Name                       AliasProperty  Name = ProcessName\n",
    "NPM                        AliasProperty  NPM = NonpagedSystemMemorySize64\n",
    "PM                         AliasProperty  PM = PagedMemorySize64\n",
    "SI                         AliasProperty  SI = SessionId\n",
    "VM                         AliasProperty  VM = VirtualMemorySize64\n",
    "WS                         AliasProperty  WS = WorkingSet64\n",
    "Disposed                   Event          System.EventHandler Disposed(System.Object, System.EventArgs)\n",
    "ErrorDataReceived          Event          System.Diagnostics.DataReceivedEventHandler ErrorDataReceived(System.Object, Syste...\n",
    "Exited                     Event          System.EventHandler Exited(System.Object, System.EventArgs)\n",
    "OutputDataReceived         Event          System.Diagnostics.DataReceivedEventHandler OutputDataReceived(System.Object, Syst...\n",
    "BeginErrorReadLine         Method         void BeginErrorReadLine()\n",
    "BeginOutputReadLine        Method         void BeginOutputReadLine()\n",
    "CancelErrorRead            Method         void CancelErrorRead()\n",
    "CancelOutputRead           Method         void CancelOutputRead()\n",
    "Close                      Method         void Close()\n",
    "CloseMainWindow            Method         bool CloseMainWindow()\n",
    "CreateObjRef               Method         System.Runtime.Remoting.ObjRef CreateObjRef(type requestedType)\n",
    "Dispose                    Method         void Dispose(), void IDisposable.Dispose()\n",
    "Equals                     Method         bool Equals(System.Object obj)\n",
    "GetHashCode                Method         int GetHashCode()\n",
    "GetLifetimeService         Method         System.Object GetLifetimeService()\n",
    "GetType                    Method         type GetType()\n",
    "InitializeLifetimeService  Method         System.Object InitializeLifetimeService()\n",
    "Kill                       Method         void Kill()\n",
    "Refresh                    Method         void Refresh()\n",
    "Start                      Method         bool Start()\n",
    "ToString                   Method         string ToString()\n",
    "WaitForExit                Method         bool WaitForExit(int milliseconds), void WaitForExit()\n",
    "WaitForInputIdle           Method         bool WaitForInputIdle(int milliseconds), bool WaitForInputIdle()\n",
    "__NounName                 NoteProperty   string __NounName=Process\n",
    "BasePriority               Property       int BasePriority {get;}\n",
    "Container                  Property       System.ComponentModel.IContainer Container {get;}\n",
    "EnableRaisingEvents        Property       bool EnableRaisingEvents {get;set;}\n",
    "ExitCode                   Property       int ExitCode {get;}\n",
    "ExitTime                   Property       datetime ExitTime {get;}\n",
    "Handle                     Property       System.IntPtr Handle {get;}\n",
    "HandleCount                Property       int HandleCount {get;}\n",
    "HasExited                  Property       bool HasExited {get;}\n",
    "Id                         Property       int Id {get;}\n",
    "MachineName                Property       string MachineName {get;}\n",
    "MainModule                 Property       System.Diagnostics.ProcessModule MainModule {get;}\n",
    "MainWindowHandle           Property       System.IntPtr MainWindowHandle {get;}\n",
    "MainWindowTitle            Property       string MainWindowTitle {get;}\n",
    "MaxWorkingSet              Property       System.IntPtr MaxWorkingSet {get;set;}\n",
    "MinWorkingSet              Property       System.IntPtr MinWorkingSet {get;set;}\n",
    "Modules                    Property       System.Diagnostics.ProcessModuleCollection Modules {get;}\n",
    "NonpagedSystemMemorySize   Property       int NonpagedSystemMemorySize {get;}\n",
    "NonpagedSystemMemorySize64 Property       long NonpagedSystemMemorySize64 {get;}\n",
    "PagedMemorySize            Property       int PagedMemorySize {get;}\n",
    "PagedMemorySize64          Property       long PagedMemorySize64 {get;}\n",
    "PagedSystemMemorySize      Property       int PagedSystemMemorySize {get;}\n",
    "PagedSystemMemorySize64    Property       long PagedSystemMemorySize64 {get;}\n",
    "PeakPagedMemorySize        Property       int PeakPagedMemorySize {get;}\n",
    "PeakPagedMemorySize64      Property       long PeakPagedMemorySize64 {get;}\n",
    "PeakVirtualMemorySize      Property       int PeakVirtualMemorySize {get;}\n",
    "PeakVirtualMemorySize64    Property       long PeakVirtualMemorySize64 {get;}\n",
    "PeakWorkingSet             Property       int PeakWorkingSet {get;}\n",
    "PeakWorkingSet64           Property       long PeakWorkingSet64 {get;}\n",
    "PriorityBoostEnabled       Property       bool PriorityBoostEnabled {get;set;}\n",
    "PriorityClass              Property       System.Diagnostics.ProcessPriorityClass PriorityClass {get;set;}\n",
    "PrivateMemorySize          Property       int PrivateMemorySize {get;}\n",
    "PrivateMemorySize64        Property       long PrivateMemorySize64 {get;}\n",
    "PrivilegedProcessorTime    Property       timespan PrivilegedProcessorTime {get;}\n",
    "ProcessName                Property       string ProcessName {get;}\n",
    "ProcessorAffinity          Property       System.IntPtr ProcessorAffinity {get;set;}\n",
    "Responding                 Property       bool Responding {get;}\n",
    "SafeHandle                 Property       Microsoft.Win32.SafeHandles.SafeProcessHandle SafeHandle {get;}\n",
    "SessionId                  Property       int SessionId {get;}\n",
    "Site                       Property       System.ComponentModel.ISite Site {get;set;}\n",
    "StandardError              Property       System.IO.StreamReader StandardError {get;}\n",
    "StandardInput              Property       System.IO.StreamWriter StandardInput {get;}\n",
    "StandardOutput             Property       System.IO.StreamReader StandardOutput {get;}\n",
    "StartInfo                  Property       System.Diagnostics.ProcessStartInfo StartInfo {get;set;}\n",
    "StartTime                  Property       datetime StartTime {get;}\n",
    "SynchronizingObject        Property       System.ComponentModel.ISynchronizeInvoke SynchronizingObject {get;set;}\n",
    "Threads                    Property       System.Diagnostics.ProcessThreadCollection Threads {get;}\n",
    "TotalProcessorTime         Property       timespan TotalProcessorTime {get;}\n",
    "UserProcessorTime          Property       timespan UserProcessorTime {get;}\n",
    "VirtualMemorySize          Property       int VirtualMemorySize {get;}\n",
    "VirtualMemorySize64        Property       long VirtualMemorySize64 {get;}\n",
    "WorkingSet                 Property       int WorkingSet {get;}\n",
    "WorkingSet64               Property       long WorkingSet64 {get;}\n",
    "PSConfiguration            PropertySet    PSConfiguration {Name, Id, PriorityClass, FileVersion}\n",
    "PSResources                PropertySet    PSResources {Name, Id, Handlecount, WorkingSet, NonPagedMemorySize, PagedMemorySiz...\n",
    "Company                    ScriptProperty System.Object Company {get=$this.Mainmodule.FileVersionInfo.CompanyName;}\n",
    "\n",
    "CPU                        ScriptProperty System.Object CPU {get=$this.TotalProcessorTime.TotalSeconds;}\n",
    "Description                ScriptProperty System.Object Description {get=$this.Mainmodule.FileVersionInfo.FileDescription;}\n",
    "\n",
    "FileVersion                ScriptProperty System.Object FileVersion {get=$this.Mainmodule.FileVersionInfo.FileVersion;}\n",
    "Path                       ScriptProperty System.Object Path {get=$this.Mainmodule.FileName;}\n",
    "\n",
    "Product                    ScriptProperty System.Object Product {get=$this.Mainmodule.FileVersionInfo.ProductName;}\n",
    "ProductVersion             ScriptProperty System.Object ProductVersion {get=$this.Mainmodule.FileVersionInfo.ProductVersion;}\n",
    "```\n",
    "1.看看都有哪些属性，试着模仿一下用过的命令把ID信息选择出来。\n",
    "\n",
    "```powershell\n",
    "get-process notepad | select-object id\n",
    "\n",
    "Id\n",
    "   --\n",
    "11236```"
   ]
  },
  {
   "cell_type": "markdown",
   "metadata": {},
   "source": [
    "## 命令是可以扩展的"
   ]
  },
  {
   "cell_type": "markdown",
   "metadata": {},
   "source": [
    "不同于传统的cmd.exe这样的命令行工具，你不能直接的扩展自己想用的命令，对于PowerShell，内置的命令我们称为cmdlet，除了cmdlet，你可以通过编译的代码或者脚本，创建你自己的模块和功能，来扩展PowerShell命令行的功能。"
   ]
  },
  {
   "cell_type": "markdown",
   "metadata": {},
   "source": [
    "**【例子】**  \n",
    "```bash\n",
    "function get-diskCFreeSpace {\n",
    "    param (\n",
    "        $computername=$env:COMPUTERNAME\n",
    "    )\n",
    "    Get-WmiObject win32_logicaldisk | Where-Object {$_.deviceid -eq 'c:'} | Format-Table @{name=\"FreeSpace(GB)\";expression={$_.freespace/1gb};formatstring='F2'}\n",
    "}\n",
    "```"
   ]
  },
  {
   "cell_type": "markdown",
   "metadata": {},
   "source": [
    "## PowerShell使用一些C#的语法"
   ]
  },
  {
   "cell_type": "markdown",
   "metadata": {},
   "source": [
    "PowerShell 是基于.NET Framework建立的。它跟C#有这一些相同的语法和关键字。学习PowerShell可以让你更容易去学习C#，如果你已经比较熟悉C#，你也会很容易上手PowerShell。"
   ]
  }
 ],
 "metadata": {
  "kernelspec": {
   "display_name": "Python 3",
   "language": "python",
   "name": "python3"
  },
  "language_info": {
   "codemirror_mode": {
    "name": "ipython",
    "version": 3
   },
   "file_extension": ".py",
   "mimetype": "text/x-python",
   "name": "python",
   "nbconvert_exporter": "python",
   "pygments_lexer": "ipython3",
   "version": "3.7.3"
  },
  "toc-autonumbering": true
 },
 "nbformat": 4,
 "nbformat_minor": 2
}
