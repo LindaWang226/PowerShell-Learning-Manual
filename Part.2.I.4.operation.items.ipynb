{
 "cells": [
  {
   "cell_type": "markdown",
   "metadata": {},
   "source": [
    "# 项目的操作"
   ]
  },
  {
   "cell_type": "markdown",
   "metadata": {},
   "source": [
    "provider中所存储的内容都是一个一个的项目，项目都常是有属性的，比如一个文件的最近一次修改时间，是不是只读等等。\n",
    "\n",
    "下面我们学习一下，我们能对这些项目做什么操作。"
   ]
  },
  {
   "cell_type": "markdown",
   "metadata": {},
   "source": [
    "## 查看项目的属性"
   ]
  },
  {
   "cell_type": "markdown",
   "metadata": {},
   "source": [
    "```\n",
    "PS D:\\ios> Get-ItemProperty .\\ubuntu-19.04-desktop-amd64.iso\n",
    "\n",
    "    Directory: D:\\ios\n",
    "\n",
    "Mode                LastWriteTime         Length Name\n",
    "----                -------------         ------ ----\n",
    "-a----         8/1/2019  12:17 PM     2097152000 ubuntu-19.04-desktop-amd64.iso\n",
    "```\n",
    "\n",
    "有些对象是不包含属性的，比如环境变量。\n",
    "\n",
    "```bash\n",
    "PS D:\\ios> Get-ItemProperty Env:\\PSModulePath\n",
    "Get-ItemProperty : Cannot use interface. The IPropertyCmdletProvider interface is not supported by this provider.\n",
    "At line:1 char:1\n",
    "+ Get-ItemProperty Env:\\PSModulePath\n",
    "+ ~~~~~~~~~~~~~~~~~~~~~~~~~~~~~~~~~~\n",
    "    + CategoryInfo          : NotImplemented: (:) [Get-ItemProperty], PSNotSupportedException\n",
    "    + FullyQualifiedErrorId : NotSupported,Microsoft.PowerShell.Commands.GetItemPropertyCommand\n",
    "```"
   ]
  },
  {
   "cell_type": "markdown",
   "metadata": {},
   "source": [
    "## 新建一个项目\n",
    "\n",
    "创建文件和文件夹\n",
    "\n",
    "```bash\n",
    "New-Item -Path 'C:\\temp\\New Folder' -ItemType Directory\n",
    "New-Item -Path 'C:\\temp\\New Folder\\file.txt' -ItemType File\n",
    "```"
   ]
  },
  {
   "cell_type": "markdown",
   "metadata": {},
   "source": [
    "## 获取子项目\n",
    "\n",
    "显示一个文件夹的所有文件，包括隐藏的，但不含子目录。\n",
    "\n",
    "```powershell\n",
    "Get-ChildItem -Path C:\\ -Force\n",
    "```\n",
    "\n",
    "如果需要包含子文件，需要加参数`-Recurse`\n",
    "\n",
    "通过PowerShell进行复杂的筛选：\n",
    "\n",
    "```bash\n",
    "Get-ChildItem -Path $env:ProgramFiles -Recurse -Include *.exe | Where-Object -FilterScript {($_.LastWriteTime -gt '2005-10-01') -and ($_.Length -ge 1mb) -and ($_.Length -le 10mb)}\n",
    "```"
   ]
  },
  {
   "cell_type": "markdown",
   "metadata": {},
   "source": [
    "## 复制项目\n",
    "\n",
    "```bash\n",
    "Copy-Item -Path C:\\boot.ini -Destination C:\\boot.bak\n",
    "```\n",
    "\n",
    "对于已经存在的文件，进行覆盖，使用参数`-Force`,哪怕目标是只读。\n",
    "```bash\n",
    "Copy-Item -Path C:\\boot.ini -Destination C:\\boot.bak -Force\n",
    "```\n",
    "\n",
    "拷贝文件：\n",
    "\n",
    "```bash\n",
    "Copy-Item C:\\temp\\test1 -Recurse C:\\temp\\DeleteMe\n",
    "```\n",
    "\n",
    "可以对需要考的文件做过滤\n",
    "\n",
    "```bash\n",
    "Copy-Item -Filter *.txt -Path c:\\data -Recurse -Destination C:\\temp\\text\n",
    "```\n",
    "\n",
    "**使用Scripting.FileSystem COM类进行备份**\n",
    "\n",
    "```bash\n",
    "(New-Object -ComObject Scripting.FileSystemObject).CopyFile('C:\\boot.ini', 'C:\\boot.bak')\n",
    "```"
   ]
  },
  {
   "cell_type": "markdown",
   "metadata": {},
   "source": [
    "## 删除项目\n",
    "\n",
    "删除文件夹下的所有文件\n",
    "\n",
    "```bash\n",
    "Remove-Item -Path C:\\temp\\DeleteMe\n",
    "```\n",
    "\n",
    "当该文件下有内容时，会有提示，确认删除，如果使用参数`-Recurse`就可以直接删除了。"
   ]
  },
  {
   "cell_type": "markdown",
   "metadata": {},
   "source": []
  }
 ],
 "metadata": {
  "kernelspec": {
   "display_name": "Python 3",
   "language": "python",
   "name": "python3"
  },
  "language_info": {
   "codemirror_mode": {
    "name": "ipython",
    "version": 3
   },
   "file_extension": ".py",
   "mimetype": "text/x-python",
   "name": "python",
   "nbconvert_exporter": "python",
   "pygments_lexer": "ipython3",
   "version": "3.7.3"
  }
 },
 "nbformat": 4,
 "nbformat_minor": 4
}
