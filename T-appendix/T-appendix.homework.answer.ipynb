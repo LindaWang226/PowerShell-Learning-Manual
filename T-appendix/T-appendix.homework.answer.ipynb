{
 "cells": [
  {
   "cell_type": "markdown",
   "metadata": {},
   "source": [
    "# 4.1\n",
    "# 1.1\n",
    "1.\n",
    "```powershell\n",
    "Get-Process notepad | Select-Object id\n",
    "```"
   ]
  },
  {
   "cell_type": "markdown",
   "metadata": {},
   "source": [
    "# 5.1\n",
    "# 1.1\n",
    "1.\n",
    "```bash\n",
    "Get-Command -Verb stop\n",
    "```\n",
    "2.\n",
    "```bash\n",
    "Get-Command -Noun process\n",
    "```"
   ]
  },
  {
   "cell_type": "markdown",
   "metadata": {},
   "source": [
    "# 6.1\n",
    "## 1.1\n",
    "![](images/get_content_alias.png)\n",
    "## 1.2\n",
    "sl  \n",
    "![](images/alias_sl.png)"
   ]
  },
  {
   "cell_type": "markdown",
   "metadata": {},
   "source": [
    "# 7.1\n",
    "## 1.2\n",
    "1.  \n",
    "```bash\n",
    "Get-Help Get-ChildItem\n",
    "```"
   ]
  },
  {
   "cell_type": "markdown",
   "metadata": {},
   "source": [
    "# 9.1\n",
    "## 1.3\n",
    "1.结果跟下列命令的结果一样：\n",
    "```bash\n",
    "Get-Location | Get-Member\n",
    "```\n",
    "\n",
    "![](images/get_member_for_variables.png)"
   ]
  },
  {
   "cell_type": "code",
   "execution_count": null,
   "metadata": {},
   "outputs": [],
   "source": []
  }
 ],
 "metadata": {
  "kernelspec": {
   "display_name": "Python 3",
   "language": "python",
   "name": "python3"
  },
  "language_info": {
   "codemirror_mode": {
    "name": "ipython",
    "version": 3
   },
   "file_extension": ".py",
   "mimetype": "text/x-python",
   "name": "python",
   "nbconvert_exporter": "python",
   "pygments_lexer": "ipython3",
   "version": "3.7.3"
  },
  "toc-autonumbering": false
 },
 "nbformat": 4,
 "nbformat_minor": 2
}
