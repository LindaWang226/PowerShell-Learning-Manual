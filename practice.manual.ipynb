{
 "cells": [
  {
   "cell_type": "markdown",
   "metadata": {},
   "source": [
    "# 改变计算机状态"
   ]
  },
  {
   "cell_type": "markdown",
   "metadata": {},
   "source": [
    "## 注销\n",
    "\n",
    "```bash\n",
    "(Get-WmiObject -Class Win32_OperatingSystem -ComputerName .).Win32Shutdown(0)\n",
    "```\n",
    "\n",
    "> [Win32_OperatingSystem class](https://docs.microsoft.com/en-us/windows/win32/cimwin32prov/win32-operatingsystem#members)"
   ]
  },
  {
   "cell_type": "markdown",
   "metadata": {},
   "source": [
    "## 关机或重启\n",
    "\n",
    "```bash\n",
    "Stop-Computer                         #关机\n",
    "Restart-Computer                      #重启\n",
    "Restart-Computer -Force               #强制重启\n",
    "```"
   ]
  },
  {
   "cell_type": "markdown",
   "metadata": {},
   "source": [
    "# 获取计算机信息"
   ]
  },
  {
   "cell_type": "markdown",
   "metadata": {},
   "source": [
    "## 桌面设置\n",
    "\n",
    "```bash\n",
    "Get-CimInstance -ClassName Win32_Desktop -ComputerName .\n",
    "```"
   ]
  },
  {
   "cell_type": "markdown",
   "metadata": {},
   "source": [
    "## BIOS信息\n",
    "\n",
    "```bash\n",
    "Get-CimInstance -ClassName Win32_BIOS -ComputerName .\n",
    "```\n",
    "\n",
    "> [Win32_BIOS class](https://docs.microsoft.com/en-us/windows/win32/cimwin32prov/win32-bios)"
   ]
  },
  {
   "cell_type": "markdown",
   "metadata": {},
   "source": [
    "## 处理器信息\n",
    "\n",
    "```bash\n",
    "Get-CimInstance -ClassName Win32_Processor -ComputerName .\n",
    "```"
   ]
  },
  {
   "cell_type": "markdown",
   "metadata": {},
   "source": [
    "## 计算机制造商和型号\n",
    "\n",
    "```bash\n",
    "Get-CimInstance -ClassName Win32_ComputerSystem\n",
    "```\n",
    "\n",
    "> [Win32_ComputerSystem class](https://docs.microsoft.com/en-us/windows/win32/cimwin32prov/win32-computersystem)"
   ]
  },
  {
   "cell_type": "markdown",
   "metadata": {},
   "source": [
    "## 列出安装的热补丁\n",
    "\n",
    "```bash\n",
    "Get-CimInstance -ClassName Win32_QuickFixEngineering -ComputerName .\n",
    "```\n",
    "\n",
    "> [Win32_QuickFixEngineering class](https://docs.microsoft.com/en-us/windows/win32/cimwin32prov/win32-quickfixengineering)"
   ]
  },
  {
   "cell_type": "markdown",
   "metadata": {},
   "source": [
    "## OS版本信息\n",
    "\n",
    "```bash\n",
    "Get-CimInstance -ClassName Win32_OperatingSystem -ComputerName . | Select-Object -Property BuildNumber,BuildType,OSType,ServicePackMajorVersion,ServicePackMinorVersion\n",
    "```\n",
    "\n",
    "> [Win32_OperatingSystem class](https://docs.microsoft.com/en-us/windows/win32/cimwin32prov/win32-operatingsystem#members)"
   ]
  },
  {
   "cell_type": "markdown",
   "metadata": {},
   "source": [
    "## 可用磁盘空间\n",
    "\n",
    "固定磁盘的类型是：DriveType 3\n",
    "\n",
    "```powershell\n",
    "Get-CimInstance -ClassName Win32_LogicalDisk -Filter \"DriveType=3\" -ComputerName .\n",
    "```\n",
    "\n",
    "求和：\n",
    "\n",
    "```powershell\n",
    "Get-CimInstance -ClassName Win32_LogicalDisk -Filter \"DriveType=3\" -ComputerName . | Measure-Object -Property FreeSpace,Size -Sum | Select-Object -Property Property,Sum\n",
    "```\n",
    "\n",
    "> [Win32_LogicalDisk class](https://docs.microsoft.com/en-us/windows/win32/cimwin32prov/win32-logicaldisk)"
   ]
  },
  {
   "cell_type": "markdown",
   "metadata": {},
   "source": [
    "## 获取登陆到特定计算机上的用户\n",
    "\n",
    "```powershell\n",
    "Get-CimInstance -ClassName Win32_ComputerSystem -ComputerName . | Select-Object UserName\n",
    "```\n",
    "\n",
    "> [Win32_ComputerSystem class](https://docs.microsoft.com/en-us/windows/win32/cimwin32prov/win32-computersystem)"
   ]
  },
  {
   "cell_type": "markdown",
   "metadata": {},
   "source": [
    "## 从一个机器上获取本地时间\n",
    "\n",
    "```powershell\n",
    "Get-CimInstance -ClassName Win32_LocalTime -ComputerName .\n",
    "```\n",
    "\n",
    "> [Win32_LocalTime class](https://docs.microsoft.com/en-us/previous-versions/windows/desktop/wmitimepprov/win32-localtime)"
   ]
  },
  {
   "cell_type": "markdown",
   "metadata": {},
   "source": [
    "# 通过`-FilterHashtable`创建Get-WinEvent查询"
   ]
  },
  {
   "cell_type": "markdown",
   "metadata": {},
   "source": [
    "## 通过Porvider筛选\n",
    "\n",
    "```powershell\n",
    "Get-WinEvent -FilterHashtable @{\n",
    "    LogName='Application'\n",
    "    ProviderName='.NET Runtime'\n",
    "}\n",
    "```"
   ]
  },
  {
   "cell_type": "markdown",
   "metadata": {},
   "source": [
    "## 通过ID筛选\n",
    "\n",
    "```powershell\n",
    "Get-WinEvent -FilterHashtable @{\n",
    "    LogName='Application'\n",
    "    ProviderName='.NET Runtime'\n",
    "    ID=1023\n",
    "}\n",
    "```"
   ]
  },
  {
   "cell_type": "markdown",
   "metadata": {},
   "source": [
    "# 操纵项目"
   ]
  },
  {
   "cell_type": "markdown",
   "metadata": {},
   "source": [
    "```powershell\n",
    "PS C:\\Windows\\system32> gcm -Noun Item\n",
    "\n",
    "CommandType     Name                                               Version    Source\n",
    "-----------     ----                                               -------    ------\n",
    "Cmdlet          Clear-Item                                         3.1.0.0    Microsoft.PowerShell.Management\n",
    "Cmdlet          Copy-Item                                          3.1.0.0    Microsoft.PowerShell.Management\n",
    "Cmdlet          Get-Item                                           3.1.0.0    Microsoft.PowerShell.Management\n",
    "Cmdlet          Invoke-Item                                        3.1.0.0    Microsoft.PowerShell.Management\n",
    "Cmdlet          Move-Item                                          3.1.0.0    Microsoft.PowerShell.Management\n",
    "Cmdlet          New-Item                                           3.1.0.0    Microsoft.PowerShell.Management\n",
    "Cmdlet          Remove-Item                                        3.1.0.0    Microsoft.PowerShell.Management\n",
    "Cmdlet          Rename-Item                                        3.1.0.0    Microsoft.PowerShell.Management\n",
    "Cmdlet          Set-Item                                           3.1.0.0    Microsoft.PowerShell.Management\n",
    "```"
   ]
  },
  {
   "cell_type": "markdown",
   "metadata": {},
   "source": [
    "## 新建项目\n",
    "\n",
    "```powershell\n",
    "New-Item -Path -ItemType Directory/File\n",
    "```"
   ]
  },
  {
   "cell_type": "markdown",
   "metadata": {},
   "source": [
    "## 重命名项目\n",
    "\n",
    "```powershell\n",
    "Rename-Item -Path C:\\temp\\New.Directory\\file1.txt fileOne.txt\n",
    "```"
   ]
  },
  {
   "cell_type": "markdown",
   "metadata": {},
   "source": [
    "## 移动项目\n",
    "\n",
    "```powershell\n",
    "Move-Item -Path C:\\temp\\New.Directory -Destination C:\\ -PassThru\n",
    "```"
   ]
  },
  {
   "cell_type": "markdown",
   "metadata": {},
   "source": [
    "## 复制项目\n",
    "\n",
    "```powershell\n",
    "Copy-Item -Path C:\\New.Directory -Destination C:\\temp\n",
    "```"
   ]
  },
  {
   "cell_type": "markdown",
   "metadata": {},
   "source": [
    "## 删除项目\n",
    "\n",
    "```powershell\n",
    "Remove-Item C:\\New.Directory\n",
    "```"
   ]
  },
  {
   "cell_type": "markdown",
   "metadata": {},
   "source": [
    "## 执行一个项目\n",
    "\n",
    "对项目用默认的操作去执行，比如，目标是一个目录，打开它，目标是一个PPT文件，用PowerPoint打开它。\n",
    "\n",
    "```powershell\n",
    "Invoke-Item C:\\WINDOWS\n",
    "```"
   ]
  },
  {
   "cell_type": "markdown",
   "metadata": {},
   "source": [
    "# 执行网络任务"
   ]
  },
  {
   "cell_type": "markdown",
   "metadata": {},
   "source": [
    "## 获取某台机器上使用中的IP地址\n",
    "\n",
    "```powershell\n",
    "Get-WmiObject -Class Win32_NetworkAdapterConfiguration -Filter IPEnabled=$true -ComputerName . | Format-Table -Property IPAddress\n",
    "```"
   ]
  },
  {
   "cell_type": "markdown",
   "metadata": {},
   "source": []
  },
  {
   "cell_type": "markdown",
   "metadata": {},
   "source": []
  },
  {
   "cell_type": "markdown",
   "metadata": {},
   "source": []
  },
  {
   "cell_type": "markdown",
   "metadata": {},
   "source": []
  },
  {
   "cell_type": "markdown",
   "metadata": {},
   "source": []
  },
  {
   "cell_type": "markdown",
   "metadata": {},
   "source": []
  },
  {
   "cell_type": "markdown",
   "metadata": {},
   "source": []
  },
  {
   "cell_type": "markdown",
   "metadata": {},
   "source": []
  },
  {
   "cell_type": "markdown",
   "metadata": {},
   "source": []
  },
  {
   "cell_type": "markdown",
   "metadata": {},
   "source": []
  },
  {
   "cell_type": "markdown",
   "metadata": {},
   "source": []
  },
  {
   "cell_type": "markdown",
   "metadata": {},
   "source": []
  },
  {
   "cell_type": "markdown",
   "metadata": {},
   "source": []
  },
  {
   "cell_type": "markdown",
   "metadata": {},
   "source": []
  },
  {
   "cell_type": "markdown",
   "metadata": {},
   "source": []
  },
  {
   "cell_type": "markdown",
   "metadata": {},
   "source": []
  },
  {
   "cell_type": "markdown",
   "metadata": {},
   "source": []
  },
  {
   "cell_type": "markdown",
   "metadata": {},
   "source": []
  },
  {
   "cell_type": "markdown",
   "metadata": {},
   "source": []
  },
  {
   "cell_type": "markdown",
   "metadata": {},
   "source": []
  },
  {
   "cell_type": "markdown",
   "metadata": {},
   "source": []
  },
  {
   "cell_type": "markdown",
   "metadata": {},
   "source": []
  },
  {
   "cell_type": "markdown",
   "metadata": {},
   "source": []
  }
 ],
 "metadata": {
  "kernelspec": {
   "display_name": "Python 3",
   "language": "python",
   "name": "python3"
  },
  "language_info": {
   "codemirror_mode": {
    "name": "ipython",
    "version": 3
   },
   "file_extension": ".py",
   "mimetype": "text/x-python",
   "name": "python",
   "nbconvert_exporter": "python",
   "pygments_lexer": "ipython3",
   "version": "3.7.3"
  },
  "toc-autonumbering": true
 },
 "nbformat": 4,
 "nbformat_minor": 2
}
