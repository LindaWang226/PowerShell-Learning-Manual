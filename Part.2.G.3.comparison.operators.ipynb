{
 "cells": [
  {
   "cell_type": "markdown",
   "metadata": {},
   "source": [
    "# 比较运算符"
   ]
  },
  {
   "cell_type": "markdown",
   "metadata": {},
   "source": [
    "| 比较运算符 | 意思 | 例子（返回True） |\n",
    "| ---------- | ------ | ---------------- |\n",
    "| -eq        | 等于   | 1 -eq 1          |\n",
    "| -ne        | 不等于  | 1 -ne 2          |\n",
    "| -lt        | 少于    | 1 -lt 2         |\n",
    "| -le        | 少于等于| 1 -le 2          |\n",
    "| -gt        | 大于    | 2 -gt 1          |\n",
    "| -ge        | 大于等于| 2 -ge 1          |\n",
    "| -like      | 相似（文字，支持通配符）       | \"file.doc\" -like \"f*.do?\" |\n",
    "| -notlike      | 不相似（文字，支持通配符）       | \"file.doc\" -notlike \"p*.doc\" |\n",
    "| -contains      | 包含       | 1,2,3 -contains 1 |\n",
    "| -notcontains      |  不包含      | 1,2,3 -notcontains 4 |"
   ]
  },
  {
   "cell_type": "code",
   "execution_count": null,
   "metadata": {},
   "outputs": [],
   "source": []
  }
 ],
 "metadata": {
  "kernelspec": {
   "display_name": "Python 3",
   "language": "python",
   "name": "python3"
  },
  "language_info": {
   "codemirror_mode": {
    "name": "ipython",
    "version": 3
   },
   "file_extension": ".py",
   "mimetype": "text/x-python",
   "name": "python",
   "nbconvert_exporter": "python",
   "pygments_lexer": "ipython3",
   "version": "3.7.3"
  }
 },
 "nbformat": 4,
 "nbformat_minor": 2
}
