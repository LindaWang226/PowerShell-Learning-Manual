{
 "cells": [
  {
   "cell_type": "markdown",
   "metadata": {},
   "source": [
    "```bash\n",
    "PS D:\\ios> Compare-Object -ReferenceObject 1 -DifferenceObject 2\n",
    "\n",
    "InputObject SideIndicator\n",
    "----------- -------------\n",
    "          2 =>\n",
    "          1 <=\n",
    "\n",
    "\n",
    "PS D:\\ios> Compare-Object -ReferenceObject 1 -DifferenceObject 1\n",
    "PS D:\\ios> Compare-Object -ReferenceObject 1 -DifferenceObject 1,2\n",
    "\n",
    "InputObject SideIndicator\n",
    "----------- -------------\n",
    "          2 =>\n",
    "```"
   ]
  }
 ],
 "metadata": {
  "kernelspec": {
   "display_name": "Python 3",
   "language": "python",
   "name": "python3"
  },
  "language_info": {
   "codemirror_mode": {
    "name": "ipython",
    "version": 3
   },
   "file_extension": ".py",
   "mimetype": "text/x-python",
   "name": "python",
   "nbconvert_exporter": "python",
   "pygments_lexer": "ipython3",
   "version": "3.7.3"
  }
 },
 "nbformat": 4,
 "nbformat_minor": 4
}
