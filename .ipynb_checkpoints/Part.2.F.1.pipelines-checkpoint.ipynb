{
 "cells": [
  {
   "cell_type": "markdown",
   "metadata": {},
   "source": [
    "# 管道"
   ]
  },
  {
   "cell_type": "markdown",
   "metadata": {},
   "source": [
    "我们现实生活中，一条长长的一组管道往往是由很多结各自不同功能的小管道组成的。\n",
    "\n",
    "比如：有的是直通，有的是拐弯，有的是分流，有的是汇聚，等等。\n",
    "\n",
    "在Shell中，我可能需要好多步骤完成一个任务，我可以把每一小步用一个命令实现，然后通过管道，把每一小步骤联结到一起，完成一个多步的复杂的任务。"
   ]
  },
  {
   "cell_type": "markdown",
   "metadata": {},
   "source": [
    "## PowerShell管道"
   ]
  },
  {
   "cell_type": "markdown",
   "metadata": {},
   "source": [
    "PowerShell的管道，是通过管道操作符“|”，将命令们联结起来。\n",
    "\n",
    "每一个命令的输出是下一个命令的输入。\n",
    "\n",
    "和其他的Shell中的管道不同的，PowerShell管道在不同命令间传递的是对象，而不是文字。"
   ]
  },
  {
   "cell_type": "markdown",
   "metadata": {},
   "source": [
    "## 管道中的对象"
   ]
  },
  {
   "cell_type": "markdown",
   "metadata": {},
   "source": [
    "我们来通过关闭指定的一个记事本的例子，来初步感受一下管道中的对象。"
   ]
  },
  {
   "cell_type": "markdown",
   "metadata": {},
   "source": [
    "**【例子】**\n",
    "\n",
    "我们现在的需求是通过PwoerShell关闭打开的记事本程序。\n",
    "\n",
    "我们首先想到的会是Sto-Process这样的命令，我们看看这个命令的语法：\n",
    "\n",
    "![](images/stop_process_syntax.jpg)\n",
    "\n",
    "我们看到我们可以通过参数`-ID`来结束这个进程，可是问题是我们不知道记事本的进程ID。\n",
    "\n",
    "接下来我们通过Get-Process来查看一下记事本的进程。\n",
    "\n",
    "![](images/notepad_process_id.jpg)\n",
    "\n",
    "这时候我们就可以通过下面的命令来结束记事本程序的进程了：\n",
    "\n",
    "```bash\n",
    "Stop-Process -Id 9224\n",
    "```\n",
    "\n",
    "通过Stop-Process的语法我们注意到，Stop-Process这个命令是可以直接接受Porcess这个类型的对象的。而Get-Process得到的对象类型也是Process，根据前面的管道的说明，我们可以设想，是不是可以直接把Get-Porcess这个命令的输出的Porcess作为Stop-Process的命令的对象输入。\n",
    "\n",
    "```bash\n",
    "Get-Process notepad | Stop-Process\n",
    "```\n",
    "\n",
    "我们发现，确实，记事本程序被直接关闭了。我们再来看一下这个对象的传递。\n",
    "\n",
    "![](images/notepad_process_type.jpg)\n",
    "\n",
    "首先，我们看到Get-Process命令得到的对象的类型是：TypeName：System.Diagnostics.Process\n",
    "\n",
    "![](images/stop_process_parameter_help.jpg)\n",
    "\n",
    "而对于Stop-Process这个命令的`-InputObject`参数所能接收的对象是Process[]，所以，通过管道，我们就把Porcess这个对象，从Get-Process传递到了Stop-Process。"
   ]
  },
  {
   "cell_type": "markdown",
   "metadata": {},
   "source": [
    "**【练习】**\n",
    "\n",
    "1.查一下Export-Csv的帮助信息，将Process导出Csv文件到您的桌面。"
   ]
  }
 ],
 "metadata": {
  "kernelspec": {
   "display_name": "Python 3",
   "language": "python",
   "name": "python3"
  },
  "language_info": {
   "codemirror_mode": {
    "name": "ipython",
    "version": 3
   },
   "file_extension": ".py",
   "mimetype": "text/x-python",
   "name": "python",
   "nbconvert_exporter": "python",
   "pygments_lexer": "ipython3",
   "version": "3.7.3"
  }
 },
 "nbformat": 4,
 "nbformat_minor": 2
}
