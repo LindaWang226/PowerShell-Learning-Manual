{
 "cells": [
  {
   "cell_type": "markdown",
   "metadata": {},
   "source": [
    "# 参数集"
   ]
  },
  {
   "cell_type": "markdown",
   "metadata": {},
   "source": [
    "在看帮助信息的时候你可能会有疑惑，有的参数在帮助里面出现了好多次，其实，一个命令是可以有好几个参数集的，而不同的参数集可能会有相同的命令。"
   ]
  },
  {
   "cell_type": "markdown",
   "metadata": {},
   "source": [
    "**【例子】**\n",
    "\n",
    "![](images/parameter_syntax.png)\n",
    "\n",
    "这是`Get-Eventlog`的语法，我们看到，有两行中间隔着一个空白行，这每一行就是一个参数集，所以，`Get-Eventlog`是有两个参数集。\n",
    "\n",
    "参数`-ComputerName`同时出现在了两个参数集中，在图中用红色的框框了起来。\n",
    "\n",
    "参数集是如何限制我们参数使用的?如果一个参数只属于一个参数集，那么你用了这个参数，在同一条命令里面，你就只能使用同一个参数集的其他命令。"
   ]
  },
  {
   "cell_type": "markdown",
   "metadata": {},
   "source": [
    "这是`Get-Eventlog`的语法，我们看到，有两行中间隔着一个空白行，这每一行就是一个参数集，所以，`Get-Eventlog`是有两个参数集。\n",
    "\n",
    "参数`-ComputerName`同时出现在了两个参数集中，在图中用红色的框框了起来。\n",
    "\n",
    "参数集是如何限制我们参数使用的?如果一个参数只属于一个参数集，那么你用了这个参数，在同一条命令里面，你就只能使用同一个参数集的其他命令。\n",
    "\n",
    "![](images\\parameter_sets.png)\n",
    "\n",
    "> 符号.用来表示本地计算机"
   ]
  }
 ],
 "metadata": {
  "kernelspec": {
   "display_name": "Python 3",
   "language": "python",
   "name": "python3"
  },
  "language_info": {
   "codemirror_mode": {
    "name": "ipython",
    "version": 3
   },
   "file_extension": ".py",
   "mimetype": "text/x-python",
   "name": "python",
   "nbconvert_exporter": "python",
   "pygments_lexer": "ipython3",
   "version": "3.7.3"
  }
 },
 "nbformat": 4,
 "nbformat_minor": 4
}
