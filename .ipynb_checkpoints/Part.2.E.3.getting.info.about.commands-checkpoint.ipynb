{
 "cells": [
  {
   "cell_type": "markdown",
   "metadata": {},
   "source": [
    "# 获取关于命令的信息"
   ]
  },
  {
   "cell_type": "markdown",
   "metadata": {},
   "source": [
    "## 通过类型获得命令"
   ]
  },
  {
   "cell_type": "markdown",
   "metadata": {},
   "source": [
    "你可以使用Get-Command来获取你想要的命令。\n",
    "\n",
    "PowerShell定义了三种类型的命令：\n",
    "> * Aliases\n",
    "> * Functions\n",
    "> * Scripts"
   ]
  },
  {
   "cell_type": "markdown",
   "metadata": {},
   "source": [
    "**【例如】**  \n",
    "通过命令\n",
    "```bash\n",
    "Get-Command -CommandType Scripts\n",
    "```\n",
    "可以获取到可用的类型为“Scripts”的命令。"
   ]
  },
  {
   "cell_type": "markdown",
   "metadata": {},
   "source": [
    "## 通过关键字获得命令"
   ]
  },
  {
   "cell_type": "markdown",
   "metadata": {},
   "source": [
    "你可以通过关键字来偶去你想要的命令，支持通配符。"
   ]
  },
  {
   "cell_type": "markdown",
   "metadata": {},
   "source": [
    "**【例子】**  \n",
    "获取所有名词为Service的命令：\n",
    "```bash\n",
    "Get-Command *-Service\n",
    "```\n",
    "因为使用了通配符，这跟我们前面使用的下面的命令效果是一样的。\n",
    "```bash\n",
    "Get-Command -Noun Service\n",
    "```\n",
    "![](images/get_command_service.jpg)"
   ]
  },
  {
   "cell_type": "code",
   "execution_count": null,
   "metadata": {},
   "outputs": [],
   "source": []
  }
 ],
 "metadata": {
  "kernelspec": {
   "display_name": "Python 3",
   "language": "python",
   "name": "python3"
  },
  "language_info": {
   "codemirror_mode": {
    "name": "ipython",
    "version": 3
   },
   "file_extension": ".py",
   "mimetype": "text/x-python",
   "name": "python",
   "nbconvert_exporter": "python",
   "pygments_lexer": "ipython3",
   "version": "3.7.3"
  }
 },
 "nbformat": 4,
 "nbformat_minor": 2
}
