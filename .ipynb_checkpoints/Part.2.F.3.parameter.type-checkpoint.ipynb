{
 "cells": [
  {
   "cell_type": "markdown",
   "metadata": {},
   "source": [
    "# 参数值类型"
   ]
  },
  {
   "cell_type": "markdown",
   "metadata": {},
   "source": [
    "参数值也是有类型的。\n",
    "\n",
    "通过查看参数的帮助信息，我们课可以看到这个参数的参数值类型是什么。\n",
    "\n",
    "**【例子】**\n",
    "\n",
    "还是以`Stop-Process`的参数`-InputObject`为例：\n",
    "\n",
    "![](images/parameter_type.jpg)\n",
    "\n",
    "这个参数值的类型应该为Process[]\n",
    "\n",
    "通过下面的命令查看Stop-Process所有参数的参数值类型：\n",
    "\n",
    "```bash\n",
    "help Stop-Process -Parameter *\n",
    "```\n",
    "\n",
    "我们发现还有：\n",
    "> * String[]  \n",
    "> * Int32[]  \n",
    "> * [SwitchParameter]\n",
    "\n",
    "String[]叫做字符串类型  \n",
    "Int32[]是整形的一种\n",
    "而SwitchParameter是一种特殊的参数，叫开关参数。\n",
    "\n",
    "无论是String还是Int32，我们是需要提供参数值的，而开关参数是不需要提供参数值的。\n",
    "\n",
    "**【例子】**\n",
    "\n",
    "![](images/parameter_type_switch.jpg)\n",
    "\n",
    "我们可以看到，对于参数`-Name`，我们需要提供一个参数值notepad，而对于参数`-WhatIf`，后面是不需要跟任何值的。\n",
    "\n",
    "从执行的结果我们看到，`-WhatIf`这个参数的作用是告诉我们，如果我们执行了这条命令会得到什么结果，结果是会对notepad执行Stop-Process的操作。\n",
    "\n",
    "所以，这种参数就想名字一样，像一个开关一样，你加上这个参数，参数的功能就生效，不加就不生效，而不需要指定什么参数值。\n",
    "\n",
    "对于数据类型，字符串啊，整形啊，我们会在接下来的内容中讨论。"
   ]
  }
 ],
 "metadata": {
  "kernelspec": {
   "display_name": "Python 3",
   "language": "python",
   "name": "python3"
  },
  "language_info": {
   "codemirror_mode": {
    "name": "ipython",
    "version": 3
   },
   "file_extension": ".py",
   "mimetype": "text/x-python",
   "name": "python",
   "nbconvert_exporter": "python",
   "pygments_lexer": "ipython3",
   "version": "3.7.3"
  }
 },
 "nbformat": 4,
 "nbformat_minor": 4
}
