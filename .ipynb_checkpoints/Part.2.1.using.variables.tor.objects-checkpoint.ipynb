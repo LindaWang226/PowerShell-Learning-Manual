{
 "cells": [
  {
   "cell_type": "markdown",
   "metadata": {},
   "source": [
    "# 使用变量保存对象"
   ]
  },
  {
   "cell_type": "markdown",
   "metadata": {},
   "source": [
    "前面介绍PowerShell重要概念的时候说过，PowerShell是基于对象的。\n",
    "\n",
    "PowerShell允许你创建一个自定义的变量来保存变量。这个变两个呃名字可以包含下划线“_”和字母。\n",
    "\n",
    "PowerShell中的变量是以“$”符号开头，然后跟一个变量名。"
   ]
  },
  {
   "cell_type": "markdown",
   "metadata": {},
   "source": [
    "## 创建一个变量"
   ]
  },
  {
   "cell_type": "markdown",
   "metadata": {},
   "source": [
    "变量就像是一个箱子，用来装东西。\n",
    "\n",
    "**【例子】**\n",
    "\n",
    "我们可以创建一个空箱子：\n",
    "\n",
    "```bash\n",
    "PS> $loc\n",
    "PS>\n",
    "```\n",
    "\n",
    "我们输入符号“$”后面直接跟了一个变量名：loc，但是没有再加任何东西，这就创建了一个空变量。\n",
    "\n",
    "我们可以把一个cmdlet的结果装进箱子里：\n",
    "```bash\n",
    "$loc = Get-Location\n",
    "```\n",
    "\n",
    "注意，这是是把结果装进箱子里，虽然我们直接执行\n",
    "\n",
    "```bash\n",
    "$loc\n",
    "```\n",
    "\n",
    "和\n",
    "\n",
    "```bash\n",
    "Get-Location\n",
    "```\n",
    "\n",
    "![](images/varibles_cmdlet.png)\n",
    "\n",
    "屏幕上看到的结果是一样的，但他们不是同一个东西。\n",
    "\n",
    "![](images/varibles_objects.png)"
   ]
  },
  {
   "cell_type": "markdown",
   "metadata": {},
   "source": [
    "## 查看变量驱动器中的变量"
   ]
  },
  {
   "cell_type": "markdown",
   "metadata": {},
   "source": [
    "PowerShell内置了一个变量驱动器，用来存放提前定义好的一些变量。"
   ]
  },
  {
   "cell_type": "markdown",
   "metadata": {},
   "source": [
    "**【例子】**\n",
    "\n",
    "```bash\n",
    "Get-ChildItem variable:\n",
    "```\n",
    "\n",
    "![](images/variable_drive.png)"
   ]
  },
  {
   "cell_type": "markdown",
   "metadata": {},
   "source": [
    "## 查看环境变量"
   ]
  },
  {
   "cell_type": "markdown",
   "metadata": {},
   "source": [
    "环境变量是一系列重要的变量，PowerShell也可以直接使用Windows系统中的环境变量。"
   ]
  },
  {
   "cell_type": "markdown",
   "metadata": {},
   "source": [
    "**【例子】**\n",
    "\n",
    "```bash\n",
    "Get-ChildItem env:\n",
    "```\n",
    "\n",
    "![](images/variable_env.png)"
   ]
  },
  {
   "cell_type": "markdown",
   "metadata": {},
   "source": [
    "## 查看对象的信息"
   ]
  },
  {
   "cell_type": "markdown",
   "metadata": {},
   "source": [
    "PowerShell基于对象，可以通过Get-Member来查看对象的信息。"
   ]
  },
  {
   "cell_type": "markdown",
   "metadata": {},
   "source": [
    "**【例子】**"
   ]
  },
  {
   "cell_type": "markdown",
   "metadata": {},
   "source": [
    "```bash\n",
    "Get-Location | Get-Member\n",
    "```\n",
    "\n",
    "![](images/get_member_for_get_location.png)\n",
    "\n",
    "我们可以看到这个对象的信息：  \n",
    "首先，对象的类型是：System.Management.Automation.PathInfo，因为Get-Location我得到的是一个路径，所以这个对象自然就是PathInfo类型。  \n",
    "其次，能看到这个对象有哪些属性和方法（Method）,关于这些有什么用，怎么用，我们以后再讲。"
   ]
  },
  {
   "cell_type": "markdown",
   "metadata": {},
   "source": [
    "**【练习】**  \n",
    "\n",
    "1.执行下面的命令：\n",
    "```bash\n",
    "$loc = Get-Location\n",
    "$loc | Get-Member\n",
    "```\n",
    "看看能得到什么结果？"
   ]
  }
 ],
 "metadata": {
  "kernelspec": {
   "display_name": "Python 3",
   "language": "python",
   "name": "python3"
  },
  "language_info": {
   "codemirror_mode": {
    "name": "ipython",
    "version": 3
   },
   "file_extension": ".py",
   "mimetype": "text/x-python",
   "name": "python",
   "nbconvert_exporter": "python",
   "pygments_lexer": "ipython3",
   "version": "3.7.3"
  },
  "toc-autonumbering": true
 },
 "nbformat": 4,
 "nbformat_minor": 2
}
