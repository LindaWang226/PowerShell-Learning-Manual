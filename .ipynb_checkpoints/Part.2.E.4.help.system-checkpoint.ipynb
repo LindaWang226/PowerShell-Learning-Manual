{
 "cells": [
  {
   "cell_type": "markdown",
   "metadata": {},
   "source": [
    "# 帮助系统"
   ]
  },
  {
   "cell_type": "markdown",
   "metadata": {},
   "source": [
    "PowerShell有完善的帮助系统，学习使用帮助，是非常重要、有效的学习PowerShell的途径。"
   ]
  },
  {
   "cell_type": "markdown",
   "metadata": {},
   "source": [
    "## 更新帮助系统"
   ]
  },
  {
   "cell_type": "markdown",
   "metadata": {},
   "source": [
    "为了能查到相关的帮助信息，确保你的机器能够访问因特网，执行下面的命令，可以将最新的PowerShell帮助信息更新到你的本地计算机。\n",
    "```bash\n",
    "Update-Help\n",
    "```\n",
    "\n",
    "> 如果你需要为离线计算机更新帮助，请点击[为离线计算机更新帮助](T-appendix.tips.ipynb#为离线计算机更新帮助)"
   ]
  },
  {
   "cell_type": "markdown",
   "metadata": {},
   "source": [
    "## 获得cmdlets的帮助信息"
   ]
  },
  {
   "cell_type": "markdown",
   "metadata": {},
   "source": [
    "通过Get-Help命令，可以获得cmdlets的帮助信息"
   ]
  },
  {
   "cell_type": "markdown",
   "metadata": {},
   "source": [
    "**【例子】**  \n",
    "```bash\n",
    "Get-Help Get-Process\n",
    "```\n",
    "![](images/get_help_get_process.png)\n",
    "你甚至可以看看Get-Help的帮助信息\n",
    "```bash\n",
    "Get-Help Get-Help\n",
    "```\n",
    "如果不使用任何参数，你看到的是一个概略的信息，如果你想查看完整的帮助信息，可以使用参数`-Full`\n",
    "```bash\n",
    "Get-Help Get-Help -Full\n",
    "```\n",
    "如果想查看关于参数的帮助信息，可以使用参数`-Parameter`\n",
    "```bash\n",
    "Get-Help Get-Help -Parameter *\n",
    "```\n",
    "如果想查看示例，可以使用参数`-Examples`\n",
    "```bash\n",
    "Get-Help Get-Help -Examples\n",
    "```"
   ]
  },
  {
   "cell_type": "markdown",
   "metadata": {},
   "source": [
    "**【练习】**  \n",
    "1.查看Get-ChildItem的帮助信息"
   ]
  },
  {
   "cell_type": "markdown",
   "metadata": {},
   "source": [
    "## 获得PowerShell内置概念的帮助信息"
   ]
  },
  {
   "cell_type": "markdown",
   "metadata": {},
   "source": [
    "PowerShell有一类特殊的信息，不是cmdlets命令，是一些以“about_”开头的内容，这些是PowerShell的概念信息，通过Get-Help也可以查看这些概念信息。"
   ]
  },
  {
   "cell_type": "markdown",
   "metadata": {},
   "source": [
    "**【例子】**  \n",
    "比如：\n",
    "```bash\n",
    "Get-Help about_command_syntax\n",
    "```\n",
    "查看PowerShell中的关于命令的语法的描述信息。\n",
    "\n",
    "还可以通过通配符，查看所有的PowerShell中的概念。\n",
    "```bash\n",
    "Get-Help about_*\n",
    "```\n",
    "![](images/get_help_about_star.png)\n"
   ]
  },
  {
   "cell_type": "markdown",
   "metadata": {},
   "source": [
    "**【练习】**  \n",
    "查看一下PowerShell概念：about_CommonParameters的帮助文件的内容。"
   ]
  },
  {
   "cell_type": "markdown",
   "metadata": {},
   "source": [
    "## 获取providers的帮助信息"
   ]
  },
  {
   "cell_type": "markdown",
   "metadata": {},
   "source": [
    "通过Get-Help也可以查看provider的帮助信息。"
   ]
  },
  {
   "cell_type": "markdown",
   "metadata": {},
   "source": [
    "**【例子】**  \n",
    "比如：我想看一下注册表provider的帮助信息。  \n",
    "```bash\n",
    "Get-Help registry\n",
    "```\n",
    "想查看PowerShell中给还有什么provider：\n",
    "```bash\n",
    "Get-PSProvider\n",
    "```\n",
    "![](images/get_psprovider.png)"
   ]
  },
  {
   "cell_type": "markdown",
   "metadata": {},
   "source": [
    "**【练习】**  \n",
    "1.查看一下provider：FileSystem的帮助信息"
   ]
  },
  {
   "cell_type": "markdown",
   "metadata": {},
   "source": [
    "## 获取scripts和functions的帮助信息"
   ]
  },
  {
   "cell_type": "markdown",
   "metadata": {},
   "source": [
    "如果scripts和functions中编写了帮助信息，也是可以通过Get-Help来查看的。"
   ]
  },
  {
   "cell_type": "markdown",
   "metadata": {},
   "source": [
    "**【例子】**  \n",
    "获取scripts的帮助信息：\n",
    "下面是我自己写的一个脚本，可以通过Get-Help来查看脚本里面的帮助信息。\n",
    "\n",
    "![](images/get_help_for_script.png)  \n",
    "\n",
    "获取funcitons的帮助信息：  \n",
    "Get-Disk是PowerShell中的一个Function，不是标准的cmdlet，我们也可以通过Get-Help来查看Function的帮助信息。\n",
    "\n",
    "![](images/get_help_for_function.png)"
   ]
  },
  {
   "cell_type": "markdown",
   "metadata": {},
   "source": [
    "**【练习】**  \n",
    "1.查看脚本的帮助：\n",
    "  1）把下面的内容复制到记事本中，并保存为scripthelp.ps1文件\n",
    "  ```bash\n",
    "  function insertSpace {\n",
    "    <#\n",
    "    .SYNOPSIS\n",
    "    Insert spaces at designated location.\n",
    "    .DESCRIPTION\n",
    "    Insert specified spaces at designated location with zero-based index.\n",
    "    .PARAMETER inputString\n",
    "    Input the string which you want to insert space.\n",
    "    .PARAMETER Index\n",
    "    Specified where zero-based you want to insert the space.\n",
    "    .PARAMETER Count\n",
    "    Specified how many spaces you want to insert.\n",
    "    .EXAMPLE\n",
    "    insertSpace -inputString \"HelloSPO\" -Index 5 -Count 1\n",
    "    Hello SPO\n",
    "    #>  \n",
    "        [CmdletBinding()]\n",
    "        param (\n",
    "            [Parameter(Mandatory=$True)]\n",
    "            [string]$inputString,\n",
    "    \n",
    "            [Int]$Index,\n",
    "          \n",
    "            [Int]$Count\n",
    "        )\n",
    "        for($i=1;$i -le $Count;$i++){\n",
    "            $spaces += \" \"\n",
    "        }\n",
    "        return $inputString.insert($index,$spaces)\n",
    "    }\n",
    "  ```\n",
    "  2）在PowerShell窗口中，通过cd命令，进入到该ps1文件所在的路径\n",
    "  3）通过命令加载该脚本\n",
    "  ```bash\n",
    "  . .\\scripthelp.ps1\n",
    "  ```\n",
    "  4）查看该脚本中function：insertSpace的帮助信息。\n",
    "  ```bash\n",
    "  Get-Help insertSpace\n",
    "  ```"
   ]
  },
  {
   "cell_type": "markdown",
   "metadata": {},
   "source": [
    "## 获得在线帮助"
   ]
  },
  {
   "cell_type": "markdown",
   "metadata": {},
   "source": [
    "如果您的机器可以访问因特网，在使用Get-Help的时候，通过`-Online`参数，可以打开浏览器以显示最新的在线帮助信息。"
   ]
  },
  {
   "cell_type": "markdown",
   "metadata": {},
   "source": [
    "**【例子】**  \n",
    "```bash\n",
    "Get-Help Get-Help -Online\n",
    "```\n",
    "![](images/get_help_online.png)"
   ]
  },
  {
   "cell_type": "code",
   "execution_count": null,
   "metadata": {},
   "outputs": [],
   "source": []
  }
 ],
 "metadata": {
  "kernelspec": {
   "display_name": "Python 3",
   "language": "python",
   "name": "python3"
  },
  "language_info": {
   "codemirror_mode": {
    "name": "ipython",
    "version": 3
   },
   "file_extension": ".py",
   "mimetype": "text/x-python",
   "name": "python",
   "nbconvert_exporter": "python",
   "pygments_lexer": "ipython3",
   "version": "3.7.3"
  },
  "toc-autonumbering": true
 },
 "nbformat": 4,
 "nbformat_minor": 4
}
