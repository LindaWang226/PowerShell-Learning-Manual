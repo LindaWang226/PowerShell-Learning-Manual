{
 "cells": [
  {
   "cell_type": "markdown",
   "metadata": {},
   "source": [
    "# 对象的类型"
   ]
  },
  {
   "cell_type": "markdown",
   "metadata": {},
   "source": [
    "对象是有类型的，在管道一篇的内容中我们提到，管道里面传递的是对象，前一个命令的输出结果，会作为后一个命令的参数的输入。\n",
    "\n",
    "通过命令Get-Member，我们可以看到对象的类型。\n",
    "\n",
    "**【例子】**\n",
    "\n",
    "我们可以看到，Get-Procees这个命令得到的结果的对象的类型是：System.Diagnostics.Process\n",
    "\n",
    "![](images/object_type_process.jpg)\n",
    "\n",
    "通过Get-Member得到的对象的结果里面，最上面以TypeName开头的部分，就是这个对象的类型。"
   ]
  },
  {
   "cell_type": "markdown",
   "metadata": {},
   "source": [
    "**【练习】**\n",
    "看一下以下命令输出的对象的对象类型\n"
   ]
  }
 ],
 "metadata": {
  "kernelspec": {
   "display_name": "Python 3",
   "language": "python",
   "name": "python3"
  },
  "language_info": {
   "codemirror_mode": {
    "name": "ipython",
    "version": 3
   },
   "file_extension": ".py",
   "mimetype": "text/x-python",
   "name": "python",
   "nbconvert_exporter": "python",
   "pygments_lexer": "ipython3",
   "version": "3.7.3"
  }
 },
 "nbformat": 4,
 "nbformat_minor": 4
}
