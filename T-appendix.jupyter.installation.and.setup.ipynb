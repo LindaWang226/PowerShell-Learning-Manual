{
 "cells": [
  {
   "cell_type": "markdown",
   "metadata": {},
   "source": [
    "# Jupyterlab的安装与配置"
   ]
  },
  {
   "cell_type": "markdown",
   "metadata": {},
   "source": [
    "Anaconda是目前最方便的Python发行版，搭载了很多我们需要用到的软件包。\n",
    "\n",
    "我们将在Anaconda上使用Jupyterlab。"
   ]
  },
  {
   "cell_type": "markdown",
   "metadata": {},
   "source": [
    "## 下载并安装Anaconda"
   ]
  },
  {
   "cell_type": "markdown",
   "metadata": {},
   "source": [
    "Anaconda有图形化的安装教程，官方的很详细：  \n",
    "> [https://docs.anaconda.com/anaconda/install/](https://docs.anaconda.com/anaconda/install/)"
   ]
  },
  {
   "cell_type": "markdown",
   "metadata": {},
   "source": [
    "安装完毕之后，打开Anaconda Prompt，继续安装几个组件：\n",
    "\n",
    "```powershell\n",
    "conda update conda\n",
    "conda update anaconda\n",
    "conda install -c conda-forge nodejs\n",
    "conda install -c conda-forge jupyterlab\n",
    "```"
   ]
  },
  {
   "cell_type": "markdown",
   "metadata": {},
   "source": [
    "## 初始建议配置"
   ]
  },
  {
   "cell_type": "markdown",
   "metadata": {},
   "source": [
    "打开 Anaconda Prompt，输入以下命令：\n",
    "`jupyter lab --generate-config`"
   ]
  },
  {
   "cell_type": "markdown",
   "metadata": {},
   "source": [
    "会在```C:\\Users\\<username>\\.jupyter\\```目录下生成一个```jupyter_notebook_config.py```文件。"
   ]
  },
  {
   "cell_type": "markdown",
   "metadata": {},
   "source": [
    "使用编辑器打开这个`jupyter_notebook_config.py`文件。\n",
    "如果在装Anaconda的时候选择安装了Visual Studio Code，并且设置了`Install 'code' command in PATH`，则可以直接在Anaconda Prompt中执行\n",
    "```powershell\n",
    "cd C:\\Users\\Frank\\.jupyter\n",
    "code jupyter_notebook_config.py\n",
    "```\n",
    "来通过Visual Studio Code打开该.py文件。\n",
    "\n",
    "在文件的末尾直接粘贴：\n",
    "```json\n",
    "c.NotebookApp.token = ''\n",
    "```\n",
    "\n",
    "解释一下：\n",
    "> `c.NotebookApp.token = ''`\n",
    "\n",
    "基于安全策略，每次打开 Jupter，它都会给你生成一个新的 Token。但是，如果你只是在自己的电脑上使用，那么，这就给你制造了麻烦，因为若是你想同时用另外一个浏览器打开它，那你就需要从 Terminal 里拷贝那个 Token 出来。所以，你可以在配置文件里直接把它设置为空。"
   ]
  },
  {
   "cell_type": "markdown",
   "metadata": {},
   "source": [
    "## 第一次启动Jupyter lab"
   ]
  },
  {
   "cell_type": "markdown",
   "metadata": {},
   "source": [
    "打开Anaconda Prompt，`cd`到你想浏览、编辑文件的目录，然后输入`jupyter lab`，随后，会用默认浏览器打开一个窗口，地址为：[http://localhost:8888/lab?](http://localhost:8888/lab?)， 这就是Jupyter lab的操作界面了。"
   ]
  },
  {
   "cell_type": "markdown",
   "metadata": {},
   "source": [
    "**比如：**"
   ]
  },
  {
   "cell_type": "markdown",
   "metadata": {},
   "source": [
    "我进入到我从Github上fetch到本地的仓库\n",
    "我在Anaconda Prompt里面输入：\n",
    "```powershell\n",
    "cd C:\\Users\\Frank\\Documents\\GitHub\\PowerShell-Learning-Manual\n",
    "jupyter lab\n",
    "```"
   ]
  },
  {
   "cell_type": "markdown",
   "metadata": {},
   "source": [
    "浏览器就会弹出如下的界面，可以看到，本地仓库里的文件，就可以查看和编辑了。"
   ]
  },
  {
   "cell_type": "markdown",
   "metadata": {},
   "source": [
    "![](images/jupyter_lab_via_browser.jpg)"
   ]
  },
  {
   "cell_type": "markdown",
   "metadata": {},
   "source": [
    "## 安装插件"
   ]
  },
  {
   "cell_type": "markdown",
   "metadata": {},
   "source": [
    "Jupyter有很多扩展插件，推荐一个对我们写教程比较有帮助的插件。"
   ]
  },
  {
   "cell_type": "markdown",
   "metadata": {},
   "source": [
    "> @jupyterlab/toc"
   ]
  },
  {
   "cell_type": "markdown",
   "metadata": {},
   "source": [
    "首先打开在JupyterLab菜单栏中的Settings——Advanced Setting Editor，在Extension Manager中添加User Overrides:\n",
    "```json\n",
    "{\n",
    "    \"enabled\": true\n",
    "}\n",
    "```\n",
    "如下图：\n",
    "\n",
    "![](images/extension_manager.jpg)\n",
    "\n",
    "然后在Anaconda Prompt中执行以下命令安装插件：  \n",
    "```powershell\n",
    "jupyter labextension install @jupyterlab/toc\n",
    "jupyter lab build\n",
    "```\n",
    "\n",
    "toc插件，可以自动将ipynb文件中的标题，按标题级别，转化成分级目录。"
   ]
  }
 ],
 "metadata": {
  "kernelspec": {
   "display_name": "Python 3",
   "language": "python",
   "name": "python3"
  },
  "language_info": {
   "codemirror_mode": {
    "name": "ipython",
    "version": 3
   },
   "file_extension": ".py",
   "mimetype": "text/x-python",
   "name": "python",
   "nbconvert_exporter": "python",
   "pygments_lexer": "ipython3",
   "version": "3.7.3"
  },
  "toc-autonumbering": true
 },
 "nbformat": 4,
 "nbformat_minor": 2
}
