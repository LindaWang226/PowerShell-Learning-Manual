{
 "cells": [
  {
   "cell_type": "markdown",
   "metadata": {},
   "source": [
    "# 改变计算机状态"
   ]
  },
  {
   "cell_type": "markdown",
   "metadata": {},
   "source": [
    "## 注销\n",
    "\n",
    "```bash\n",
    "(Get-WmiObject -Class Win32_OperatingSystem -ComputerName .).Win32Shutdown(0)\n",
    "```\n",
    "\n",
    "> [Win32_OperatingSystem class](https://docs.microsoft.com/en-us/windows/win32/cimwin32prov/win32-operatingsystem#members)"
   ]
  },
  {
   "cell_type": "markdown",
   "metadata": {},
   "source": [
    "## 关机或重启\n",
    "\n",
    "```bash\n",
    "Stop-Computer                         #关机\n",
    "Restart-Computer                      #重启\n",
    "Restart-Computer -Force               #强制重启\n",
    "```"
   ]
  },
  {
   "cell_type": "markdown",
   "metadata": {},
   "source": [
    "# 获取计算机信息"
   ]
  },
  {
   "cell_type": "markdown",
   "metadata": {},
   "source": [
    "## 桌面设置\n",
    "\n",
    "```bash\n",
    "Get-CimInstance -ClassName Win32_Desktop -ComputerName .\n",
    "```"
   ]
  },
  {
   "cell_type": "markdown",
   "metadata": {},
   "source": [
    "## BIOS信息\n",
    "\n",
    "```bash\n",
    "Get-CimInstance -ClassName Win32_BIOS -ComputerName .\n",
    "```\n",
    "\n",
    "> [Win32_BIOS class](https://docs.microsoft.com/en-us/windows/win32/cimwin32prov/win32-bios)"
   ]
  },
  {
   "cell_type": "markdown",
   "metadata": {},
   "source": [
    "## 处理器信息\n",
    "\n",
    "```bash\n",
    "Get-CimInstance -ClassName Win32_Processor -ComputerName .\n",
    "```"
   ]
  },
  {
   "cell_type": "markdown",
   "metadata": {},
   "source": [
    "## 计算机制造商和型号\n",
    "\n",
    "```bash\n",
    "Get-CimInstance -ClassName Win32_ComputerSystem\n",
    "```\n",
    "\n",
    "> [Win32_ComputerSystem class](https://docs.microsoft.com/en-us/windows/win32/cimwin32prov/win32-computersystem)"
   ]
  },
  {
   "cell_type": "markdown",
   "metadata": {},
   "source": [
    "## 列出安装的热补丁\n",
    "\n",
    "```bash\n",
    "Get-CimInstance -ClassName Win32_QuickFixEngineering -ComputerName .\n",
    "```\n",
    "\n",
    "> [Win32_QuickFixEngineering class](https://docs.microsoft.com/en-us/windows/win32/cimwin32prov/win32-quickfixengineering)"
   ]
  },
  {
   "cell_type": "markdown",
   "metadata": {},
   "source": [
    "## OS版本信息\n",
    "\n",
    "```bash\n",
    "Get-CimInstance -ClassName Win32_OperatingSystem -ComputerName . | Select-Object -Property BuildNumber,BuildType,OSType,ServicePackMajorVersion,ServicePackMinorVersion\n",
    "```\n",
    "\n",
    "> [Win32_OperatingSystem class](https://docs.microsoft.com/en-us/windows/win32/cimwin32prov/win32-operatingsystem#members)"
   ]
  },
  {
   "cell_type": "markdown",
   "metadata": {},
   "source": [
    "## 可用磁盘空间\n",
    "\n",
    "固定磁盘的类型是：DriveType 3\n",
    "\n",
    "```powershell\n",
    "Get-CimInstance -ClassName Win32_LogicalDisk -Filter \"DriveType=3\" -ComputerName .\n",
    "```\n",
    "\n",
    "求和：\n",
    "\n",
    "```powershell\n",
    "Get-CimInstance -ClassName Win32_LogicalDisk -Filter \"DriveType=3\" -ComputerName . | Measure-Object -Property FreeSpace,Size -Sum | Select-Object -Property Property,Sum\n",
    "```\n",
    "\n",
    "> [Win32_LogicalDisk class](https://docs.microsoft.com/en-us/windows/win32/cimwin32prov/win32-logicaldisk)"
   ]
  },
  {
   "cell_type": "markdown",
   "metadata": {},
   "source": [
    "## 获取登陆到特定计算机上的用户\n",
    "\n",
    "```powershell\n",
    "Get-CimInstance -ClassName Win32_ComputerSystem -ComputerName . | Select-Object UserName\n",
    "```\n",
    "\n",
    "> [Win32_ComputerSystem class](https://docs.microsoft.com/en-us/windows/win32/cimwin32prov/win32-computersystem)"
   ]
  },
  {
   "cell_type": "markdown",
   "metadata": {},
   "source": [
    "## 从一个机器上获取本地时间\n",
    "\n",
    "```powershell\n",
    "Get-CimInstance -ClassName Win32_LocalTime -ComputerName .\n",
    "```\n",
    "\n",
    "> [Win32_LocalTime class](https://docs.microsoft.com/en-us/previous-versions/windows/desktop/wmitimepprov/win32-localtime)"
   ]
  },
  {
   "cell_type": "markdown",
   "metadata": {},
   "source": [
    "# 通过`-FilterHashtable`创建Get-WinEvent查询"
   ]
  },
  {
   "cell_type": "markdown",
   "metadata": {},
   "source": [
    "## 通过Porvider筛选\n",
    "\n",
    "```powershell\n",
    "Get-WinEvent -FilterHashtable @{\n",
    "    LogName='Application'\n",
    "    ProviderName='.NET Runtime'\n",
    "}\n",
    "```"
   ]
  },
  {
   "cell_type": "markdown",
   "metadata": {},
   "source": [
    "## 通过ID筛选\n",
    "\n",
    "```powershell\n",
    "Get-WinEvent -FilterHashtable @{\n",
    "    LogName='Application'\n",
    "    ProviderName='.NET Runtime'\n",
    "    ID=1023\n",
    "}\n",
    "```"
   ]
  },
  {
   "cell_type": "markdown",
   "metadata": {},
   "source": [
    "# 操纵项目"
   ]
  },
  {
   "cell_type": "markdown",
   "metadata": {},
   "source": [
    "```powershell\n",
    "PS C:\\Windows\\system32> gcm -Noun Item\n",
    "\n",
    "CommandType     Name                                               Version    Source\n",
    "-----------     ----                                               -------    ------\n",
    "Cmdlet          Clear-Item                                         3.1.0.0    Microsoft.PowerShell.Management\n",
    "Cmdlet          Copy-Item                                          3.1.0.0    Microsoft.PowerShell.Management\n",
    "Cmdlet          Get-Item                                           3.1.0.0    Microsoft.PowerShell.Management\n",
    "Cmdlet          Invoke-Item                                        3.1.0.0    Microsoft.PowerShell.Management\n",
    "Cmdlet          Move-Item                                          3.1.0.0    Microsoft.PowerShell.Management\n",
    "Cmdlet          New-Item                                           3.1.0.0    Microsoft.PowerShell.Management\n",
    "Cmdlet          Remove-Item                                        3.1.0.0    Microsoft.PowerShell.Management\n",
    "Cmdlet          Rename-Item                                        3.1.0.0    Microsoft.PowerShell.Management\n",
    "Cmdlet          Set-Item                                           3.1.0.0    Microsoft.PowerShell.Management\n",
    "```"
   ]
  },
  {
   "cell_type": "markdown",
   "metadata": {},
   "source": [
    "## 新建项目\n",
    "\n",
    "```powershell\n",
    "New-Item -Path -ItemType Directory/File\n",
    "```"
   ]
  },
  {
   "cell_type": "markdown",
   "metadata": {},
   "source": [
    "## 重命名项目\n",
    "\n",
    "```powershell\n",
    "Rename-Item -Path C:\\temp\\New.Directory\\file1.txt fileOne.txt\n",
    "```"
   ]
  },
  {
   "cell_type": "markdown",
   "metadata": {},
   "source": [
    "## 移动项目\n",
    "\n",
    "```powershell\n",
    "Move-Item -Path C:\\temp\\New.Directory -Destination C:\\ -PassThru\n",
    "```"
   ]
  },
  {
   "cell_type": "markdown",
   "metadata": {},
   "source": [
    "## 复制项目\n",
    "\n",
    "```powershell\n",
    "Copy-Item -Path C:\\New.Directory -Destination C:\\temp\n",
    "```"
   ]
  },
  {
   "cell_type": "markdown",
   "metadata": {},
   "source": [
    "## 删除项目\n",
    "\n",
    "```powershell\n",
    "Remove-Item C:\\New.Directory\n",
    "```"
   ]
  },
  {
   "cell_type": "markdown",
   "metadata": {},
   "source": [
    "## 执行一个项目\n",
    "\n",
    "对项目用默认的操作去执行，比如，目标是一个目录，打开它，目标是一个PPT文件，用PowerPoint打开它。\n",
    "\n",
    "```powershell\n",
    "Invoke-Item C:\\WINDOWS\n",
    "```"
   ]
  },
  {
   "cell_type": "markdown",
   "metadata": {},
   "source": [
    "# 执行网络任务"
   ]
  },
  {
   "cell_type": "markdown",
   "metadata": {},
   "source": [
    "## 列出某台机器上使用中的IP地址\n",
    "\n",
    "```powershell\n",
    "Get-WmiObject -Class Win32_NetworkAdapterConfiguration -Filter IPEnabled=$true -ComputerName . | Format-Table -Property IPAddress\n",
    "```\n",
    "\n",
    "> [Win32_NetworkAdapterConfiguration class](https://docs.microsoft.com/en-us/windows/win32/cimwin32prov/win32-networkadapterconfiguration)"
   ]
  },
  {
   "cell_type": "markdown",
   "metadata": {},
   "source": [
    "## 列出IP配置\n",
    "\n",
    "列出每个网卡的IP配置信息：\n",
    "\n",
    "```powershell\n",
    "Get-WmiObject -Class Win32_NetworkAdapterConfiguration -Filter IPEnabled=$true -ComputerName .\n",
    "```\n"
   ]
  },
  {
   "cell_type": "markdown",
   "metadata": {},
   "source": [
    "## Ping"
   ]
  },
  {
   "cell_type": "markdown",
   "metadata": {},
   "source": [
    "```powershell\n",
    "Get-WmiObject -Class Win32_PingStatus -Filter \"Address='www.baidu.com'\" -ComputerName . | Format-Table -Property Address,ResponseTime,StatusCode -Autosize\n",
    "```\n",
    "\n",
    "通过数组、ForEach-Object，ping多个地址：\n",
    "\n",
    "```powershell\n",
    "'127.0.0.1','localhost','research.microsoft.com' | ForEach-Object -Process {Get-WmiObject -Class Win32_PingStatus -Filter (\"Address='\" + $_ + \"'\") -ComputerName .} | Select-Object -Property Address,ResponseTime,StatusCode\n",
    "```\n",
    "\n",
    "测试某个子网网段的地址：\n",
    "\n",
    "```powershell\n",
    "1..254| ForEach-Object -Process {Get-WmiObject -Class Win32_PingStatus -Filter (\"Address='192.168.1.\" + $_ + \"'\") -ComputerName .} | Select-Object -Property Address,ResponseTime,StatusCode\n",
    "```\n",
    "\n"
   ]
  },
  {
   "cell_type": "markdown",
   "metadata": {},
   "source": [
    "## 获取网卡属性\n",
    "\n",
    "前面用到的Win32_NetworkAdapterConfiguration更多的是网卡的配置信息如IP地址之类的，要想获取MAC地址等网卡的属性信息：\n",
    "\n",
    "```powershell\n",
    "Get-WmiObject -Class Win32_NetworkAdapter -ComputerName .\n",
    "```\n",
    "\n",
    "> [Win32_NetworkAdapter class](https://docs.microsoft.com/en-us/windows/win32/cimwin32prov/win32-networkadapter)"
   ]
  },
  {
   "cell_type": "markdown",
   "metadata": {},
   "source": [
    "## 为网卡指定一个DNS Domain\n",
    "\n",
    "通过SetDNSDomain方法，为网卡指定DNS Domain\n",
    "\n",
    "```bash\n",
    "Get-WmiObject -Class Win32_NetworkAdapterConfiguration -Filter IPEnabled=$true -ComputerName . | ForEach-Object -Process { $_. SetDNSDomain('fabrikam.com') }\n",
    "```\n",
    "\n",
    "> [Win32_NetworkAdapterConfiguration class](https://docs.microsoft.com/en-us/windows/win32/cimwin32prov/win32-networkadapterconfiguration)"
   ]
  },
  {
   "cell_type": "markdown",
   "metadata": {},
   "source": [
    "## 配置DHCP\n",
    "\n",
    "**获取开启DHCP的网卡**\n",
    "\n",
    "```bash\n",
    "Get-WmiObject -Class Win32_NetworkAdapterConfiguration -Filter \"DHCPEnabled=$true\" -ComputerName .\n",
    "```\n",
    "\n",
    "**获取只配了IP的网卡**\n",
    "\n",
    "```bash\n",
    "Get-WmiObject -Class Win32_NetworkAdapterConfiguration -Filter \"IPEnabled=$true and DHCPEnabled=$true\" -ComputerName .\n",
    "```"
   ]
  },
  {
   "cell_type": "markdown",
   "metadata": {},
   "source": [
    "## 创建网络共享\n",
    "\n",
    "使用Win32_Share Create方法来创建网络共享\n",
    "\n",
    "```bash\n",
    "(Get-WmiObject -List -ComputerName . | Where-Object -FilterScript {$_.Name -eq 'Win32_Share'}).Create('C:\\temp','TempShare',0,25,'test share of the temp folder')\n",
    "```"
   ]
  },
  {
   "cell_type": "markdown",
   "metadata": {},
   "source": [
    "## 移除网络共享\n",
    "\n",
    "```powershell\n",
    "(Get-WmiObject -Class Win32_Share -ComputerName . -Filter \"Name='TempShare'\").Delete()\n",
    "```\n",
    "\n",
    "```bash\n",
    "PS> net share tempshare /delete\n",
    "```\n"
   ]
  },
  {
   "cell_type": "markdown",
   "metadata": {},
   "source": [
    "## 创建Windows PowerShell网络驱动器\n",
    "```powershell\n",
    "(New-Object -ComObject WScript.Network).MapNetworkDrive('B:', '\\\\FPS01\\users')\n",
    "```"
   ]
  },
  {
   "cell_type": "markdown",
   "metadata": {},
   "source": [
    "# 格式化输出"
   ]
  },
  {
   "cell_type": "markdown",
   "metadata": {},
   "source": [
    "## Format-Wide\n",
    "\n",
    "按列宽显示：\n",
    "\n",
    "```powershell\n",
    "Get-Command -Verb Format | Format-Wide\n",
    "```\n",
    "\n",
    "通过参数`-Column`可以指定显示列宽数"
   ]
  },
  {
   "cell_type": "markdown",
   "metadata": {},
   "source": [
    "## Format-List\n",
    "\n",
    "按列显示：\n",
    "\n",
    "```powershell\n",
    "Get-Process -Name powershell | Format-List\n",
    "```\n",
    "\n",
    "显示详情，等于把Get-Member里面的内容显示出来：\n",
    "\n",
    "```powershell\n",
    "Get-Process -Name powershell | Format-List -Property *\n",
    "```"
   ]
  },
  {
   "cell_type": "markdown",
   "metadata": {},
   "source": [
    "## Format-Table\n",
    "\n",
    "```powershell\n",
    "Get-Process -Name powershell | Format-Table\n",
    "```"
   ]
  },
  {
   "cell_type": "markdown",
   "metadata": {},
   "source": [
    "## AutoSize\n",
    "\n",
    "自动换行\n",
    "\n",
    "完整显示信息，直到屏幕末端，以...显示。越靠近开头的越重要，越完整显示。\n",
    "\n",
    "```powershell\n",
    "Get-Process -Name powershell | Format-Table -Property Path,Name,Id,Company -AutoSize\n",
    "```"
   ]
  },
  {
   "cell_type": "markdown",
   "metadata": {},
   "source": [
    "## Wrap自动换行\n",
    "\n",
    "显示不完整，自动换行显示，结合Autosize一起使用效果会更好，如果不使用autosize，不同列显示间距可能会比较大，导致某一行没有足够的空间显示 ，就会换行成很多行。\n",
    "\n",
    "使用Wrap跟使用AutoSize的一个区别是，前面都一样，只是最后一行，会换行。\n",
    "\n",
    "```powershell\n",
    "Get-Process -Name powershell | Format-Table -Wrap -AutoSize -Property Name,Id,Company,Path\n",
    "```"
   ]
  },
  {
   "cell_type": "markdown",
   "metadata": {},
   "source": [
    "## GroupBy\n",
    "\n",
    "以某一属性分组：\n",
    "\n",
    "```powershell\n",
    "Get-Process -Name powershell | Format-Table -Wrap -AutoSize -Property Name,Id,Path -GroupBy Company\n",
    "```"
   ]
  },
  {
   "cell_type": "markdown",
   "metadata": {},
   "source": [
    "# 处理文件和文件夹"
   ]
  },
  {
   "cell_type": "markdown",
   "metadata": {},
   "source": [
    "## 列出文件夹下的文件\n",
    "\n",
    "显示一个文件夹的所有文件，包括隐藏的，但不含子目录。\n",
    "\n",
    "```powershell\n",
    "Get-ChildItem -Path C:\\ -Force\n",
    "```\n",
    "\n",
    "如果需要包含子文件，需要加参数`-Recurse`\n",
    "\n",
    "通过PowerShell进行复杂的筛选：\n",
    "\n",
    "```bash\n",
    "Get-ChildItem -Path $env:ProgramFiles -Recurse -Include *.exe | Where-Object -FilterScript {($_.LastWriteTime -gt '2005-10-01') -and ($_.Length -ge 1mb) -and ($_.Length -le 10mb)}\n",
    "```"
   ]
  },
  {
   "cell_type": "markdown",
   "metadata": {},
   "source": [
    "## 复制文件和文件夹\n",
    "\n",
    "```bash\n",
    "Copy-Item -Path C:\\boot.ini -Destination C:\\boot.bak\n",
    "```\n",
    "\n",
    "对于已经存在的文件，进行覆盖，使用参数`-Force`,哪怕目标是只读。\n",
    "```bash\n",
    "Copy-Item -Path C:\\boot.ini -Destination C:\\boot.bak -Force\n",
    "```\n",
    "\n",
    "拷贝文件：\n",
    "\n",
    "```bash\n",
    "Copy-Item C:\\temp\\test1 -Recurse C:\\temp\\DeleteMe\n",
    "```\n",
    "\n",
    "可以对需要考的文件做过滤\n",
    "\n",
    "```bash\n",
    "Copy-Item -Filter *.txt -Path c:\\data -Recurse -Destination C:\\temp\\text\n",
    "```\n",
    "\n",
    "**使用Scripting.FileSystem COM类进行备份**\n",
    "\n",
    "```bash\n",
    "(New-Object -ComObject Scripting.FileSystemObject).CopyFile('C:\\boot.ini', 'C:\\boot.bak')\n",
    "```"
   ]
  },
  {
   "cell_type": "markdown",
   "metadata": {},
   "source": [
    "## 创建文件和文件夹\n",
    "\n",
    "```bash\n",
    "New-Item -Path 'C:\\temp\\New Folder' -ItemType Directory\n",
    "New-Item -Path 'C:\\temp\\New Folder\\file.txt' -ItemType File\n",
    "```"
   ]
  },
  {
   "cell_type": "markdown",
   "metadata": {},
   "source": [
    "## 删除文件夹下的所有文件\n",
    "\n",
    "```bash\n",
    "Remove-Item -Path C:\\temp\\DeleteMe\n",
    "```\n",
    "\n",
    "当该文件下有内容时，会有提示，确认删除，如果使用参数`-Recurse`就可以直接删除了。"
   ]
  },
  {
   "cell_type": "markdown",
   "metadata": {},
   "source": [
    "## 将本地文件夹映射成一个Windows驱动器\n",
    "\n",
    "```cmd\n",
    "subst p: $env:programfiles\n",
    "```"
   ]
  },
  {
   "cell_type": "markdown",
   "metadata": {},
   "source": []
  },
  {
   "cell_type": "markdown",
   "metadata": {},
   "source": []
  },
  {
   "cell_type": "markdown",
   "metadata": {},
   "source": []
  },
  {
   "cell_type": "markdown",
   "metadata": {},
   "source": []
  },
  {
   "cell_type": "markdown",
   "metadata": {},
   "source": []
  },
  {
   "cell_type": "markdown",
   "metadata": {},
   "source": []
  },
  {
   "cell_type": "markdown",
   "metadata": {},
   "source": []
  },
  {
   "cell_type": "markdown",
   "metadata": {},
   "source": []
  },
  {
   "cell_type": "markdown",
   "metadata": {},
   "source": []
  },
  {
   "cell_type": "markdown",
   "metadata": {},
   "source": []
  }
 ],
 "metadata": {
  "kernelspec": {
   "display_name": "Python 3",
   "language": "python",
   "name": "python3"
  },
  "language_info": {
   "codemirror_mode": {
    "name": "ipython",
    "version": 3
   },
   "file_extension": ".py",
   "mimetype": "text/x-python",
   "name": "python",
   "nbconvert_exporter": "python",
   "pygments_lexer": "ipython3",
   "version": "3.7.3"
  },
  "toc-autonumbering": true
 },
 "nbformat": 4,
 "nbformat_minor": 2
}
