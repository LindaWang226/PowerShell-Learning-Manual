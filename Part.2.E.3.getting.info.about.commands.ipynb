{
 "cells": [
  {
   "cell_type": "markdown",
   "metadata": {},
   "source": [
    "# 获取关于命令的信息"
   ]
  },
  {
   "cell_type": "markdown",
   "metadata": {},
   "source": [
    "## 通过类型获得命令"
   ]
  },
  {
   "cell_type": "markdown",
   "metadata": {},
   "source": [
    "你可以使用Get-Command来获取你想要的命令。\n",
    "\n",
    "PowerShell定义了三种类型的命令：\n",
    "> * Aliases\n",
    "> * Functions\n",
    "> * Scripts"
   ]
  },
  {
   "cell_type": "markdown",
   "metadata": {},
   "source": [
    "**【例如】**  \n",
    "通过命令\n",
    "```bash\n",
    "Get-Command -CommandType Scripts\n",
    "```\n",
    "可以获取到可用的类型为“Scripts”的命令。"
   ]
  },
  {
   "cell_type": "markdown",
   "metadata": {},
   "source": [
    "## 通过关键字获得命令"
   ]
  },
  {
   "cell_type": "markdown",
   "metadata": {},
   "source": [
    "你可以通过关键字来偶去你想要的命令，支持通配符。"
   ]
  },
  {
   "cell_type": "markdown",
   "metadata": {},
   "source": [
    "**【例子】**  \n",
    "获取所有名词为Service的命令：\n",
    "```bash\n",
    "Get-Command *-Service\n",
    "```\n",
    "因为使用了通配符，这跟我们前面使用的下面的命令效果是一样的。\n",
    "```bash\n",
    "Get-Command -Noun Service\n",
    "```\n",
    "![](images/get_command_service.jpg)"
   ]
  },
  {
   "cell_type": "markdown",
   "metadata": {},
   "source": [
    "# 命令的结构"
   ]
  },
  {
   "cell_type": "markdown",
   "metadata": {},
   "source": [
    "我们已经用过一些命令了，现在我们来看一条命令的结构。\n",
    "\n",
    "**【例子】**\n",
    "\n",
    "```bash\n",
    "Get-Command -CommandType Scripts\n",
    "```\n",
    "\n",
    "> * Get-Command 是命令\n",
    "> * -Command 是参数\n",
    "> * Scripts 是参数值\n",
    "\n",
    "PowerShell命令的使用，都是基于这个结构来使用了，同一条命令里面，可以同时使用多个参数。\n"
   ]
  }
 ],
 "metadata": {
  "kernelspec": {
   "display_name": "Python 3",
   "language": "python",
   "name": "python3"
  },
  "language_info": {
   "codemirror_mode": {
    "name": "ipython",
    "version": 3
   },
   "file_extension": ".py",
   "mimetype": "text/x-python",
   "name": "python",
   "nbconvert_exporter": "python",
   "pygments_lexer": "ipython3",
   "version": "3.7.3"
  }
 },
 "nbformat": 4,
 "nbformat_minor": 4
}
