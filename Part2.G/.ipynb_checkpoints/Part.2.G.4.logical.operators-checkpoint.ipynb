{
 "cells": [
  {
   "cell_type": "markdown",
   "metadata": {},
   "source": [
    "# 逻辑运算符"
   ]
  },
  {
   "cell_type": "markdown",
   "metadata": {},
   "source": [
    "| 逻辑运算符 | 意思 | 例子（返回True） |\n",
    "| ---------- | ------ | ---------------- |\n",
    "| -and        | 等于   | 1 -eq 1          |\n",
    "| -or        | 不等于  | 1 -ne 2          |\n",
    "| -not        | 不等于  | 1 -ne 2          |\n",
    "| !        | 不等于  | 1 -ne 2          |"
   ]
  },
  {
   "cell_type": "code",
   "execution_count": null,
   "metadata": {},
   "outputs": [],
   "source": []
  }
 ],
 "metadata": {
  "kernelspec": {
   "display_name": "Python 3",
   "language": "python",
   "name": "python3"
  },
  "language_info": {
   "codemirror_mode": {
    "name": "ipython",
    "version": 3
   },
   "file_extension": ".py",
   "mimetype": "text/x-python",
   "name": "python",
   "nbconvert_exporter": "python",
   "pygments_lexer": "ipython3",
   "version": "3.7.3"
  }
 },
 "nbformat": 4,
 "nbformat_minor": 2
}
