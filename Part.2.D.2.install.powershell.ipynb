{
 "cells": [
  {
   "cell_type": "markdown",
   "metadata": {},
   "source": [
    "# 安装Windows PowerShell"
   ]
  },
  {
   "cell_type": "markdown",
   "metadata": {},
   "source": [
    "很多我们正在使用的Windows系统是已经安装了Windows PowerShell的，我们的教程所使用的PowerShell版本是5.1。\n",
    "\n",
    "不同版本的PowerShell可能会存在差异，下面是不同版本的Windows操作系统所预装的PowerShell版本。\n",
    "\n",
    "![](images/psversiontable.jpg)\n",
    "\n",
    "可以在后面的课程[开始使用Windows PowerShell](Part.2.D.3.start.with.powershell.consol.ipynb)中看到如何打开PowerShell控制台及如何查看PowerShell的版本。\n",
    "\n",
    "如果需要将您现在系统中的Windows PowerShell升级至5.1版本，请点击下面的链接下载WMF 5.1。\n",
    "\n",
    "[https://www.microsoft.com/en-us/download/details.aspx?id=54616](https://www.microsoft.com/en-us/download/details.aspx?id=54616)"
   ]
  }
 ],
 "metadata": {
  "kernelspec": {
   "display_name": "Python 3",
   "language": "python",
   "name": "python3"
  },
  "language_info": {
   "codemirror_mode": {
    "name": "ipython",
    "version": 3
   },
   "file_extension": ".py",
   "mimetype": "text/x-python",
   "name": "python",
   "nbconvert_exporter": "python",
   "pygments_lexer": "ipython3",
   "version": "3.7.3"
  }
 },
 "nbformat": 4,
 "nbformat_minor": 4
}
